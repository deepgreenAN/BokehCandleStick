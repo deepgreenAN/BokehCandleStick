{
 "cells": [
  {
   "cell_type": "markdown",
   "metadata": {},
   "source": [
    "### インポート "
   ]
  },
  {
   "cell_type": "code",
   "execution_count": 1,
   "metadata": {
    "ExecuteTime": {
     "end_time": "2020-11-16T11:13:11.143467Z",
     "start_time": "2020-11-16T11:12:54.712373Z"
    }
   },
   "outputs": [],
   "source": [
    "import pandas as pd\n",
    "import numpy as np\n",
    "import datetime\n",
    "import time\n",
    "from pytz import timezone"
   ]
  },
  {
   "cell_type": "code",
   "execution_count": 2,
   "metadata": {
    "ExecuteTime": {
     "end_time": "2020-11-16T11:13:11.177366Z",
     "start_time": "2020-11-16T11:13:11.158426Z"
    }
   },
   "outputs": [],
   "source": [
    "from pathlib import Path\n",
    "import math"
   ]
  },
  {
   "cell_type": "code",
   "execution_count": 3,
   "metadata": {
    "ExecuteTime": {
     "end_time": "2020-11-16T11:13:15.612510Z",
     "start_time": "2020-11-16T11:13:11.197310Z"
    }
   },
   "outputs": [
    {
     "data": {
      "text/html": [
       "\n",
       "    <div class=\"bk-root\">\n",
       "        <a href=\"https://bokeh.org\" target=\"_blank\" class=\"bk-logo bk-logo-small bk-logo-notebook\"></a>\n",
       "        <span id=\"1001\">Loading BokehJS ...</span>\n",
       "    </div>"
      ]
     },
     "metadata": {},
     "output_type": "display_data"
    },
    {
     "data": {
      "application/javascript": [
       "\n",
       "(function(root) {\n",
       "  function now() {\n",
       "    return new Date();\n",
       "  }\n",
       "\n",
       "  var force = true;\n",
       "\n",
       "  if (typeof root._bokeh_onload_callbacks === \"undefined\" || force === true) {\n",
       "    root._bokeh_onload_callbacks = [];\n",
       "    root._bokeh_is_loading = undefined;\n",
       "  }\n",
       "\n",
       "  var JS_MIME_TYPE = 'application/javascript';\n",
       "  var HTML_MIME_TYPE = 'text/html';\n",
       "  var EXEC_MIME_TYPE = 'application/vnd.bokehjs_exec.v0+json';\n",
       "  var CLASS_NAME = 'output_bokeh rendered_html';\n",
       "\n",
       "  /**\n",
       "   * Render data to the DOM node\n",
       "   */\n",
       "  function render(props, node) {\n",
       "    var script = document.createElement(\"script\");\n",
       "    node.appendChild(script);\n",
       "  }\n",
       "\n",
       "  /**\n",
       "   * Handle when an output is cleared or removed\n",
       "   */\n",
       "  function handleClearOutput(event, handle) {\n",
       "    var cell = handle.cell;\n",
       "\n",
       "    var id = cell.output_area._bokeh_element_id;\n",
       "    var server_id = cell.output_area._bokeh_server_id;\n",
       "    // Clean up Bokeh references\n",
       "    if (id != null && id in Bokeh.index) {\n",
       "      Bokeh.index[id].model.document.clear();\n",
       "      delete Bokeh.index[id];\n",
       "    }\n",
       "\n",
       "    if (server_id !== undefined) {\n",
       "      // Clean up Bokeh references\n",
       "      var cmd = \"from bokeh.io.state import curstate; print(curstate().uuid_to_server['\" + server_id + \"'].get_sessions()[0].document.roots[0]._id)\";\n",
       "      cell.notebook.kernel.execute(cmd, {\n",
       "        iopub: {\n",
       "          output: function(msg) {\n",
       "            var id = msg.content.text.trim();\n",
       "            if (id in Bokeh.index) {\n",
       "              Bokeh.index[id].model.document.clear();\n",
       "              delete Bokeh.index[id];\n",
       "            }\n",
       "          }\n",
       "        }\n",
       "      });\n",
       "      // Destroy server and session\n",
       "      var cmd = \"import bokeh.io.notebook as ion; ion.destroy_server('\" + server_id + \"')\";\n",
       "      cell.notebook.kernel.execute(cmd);\n",
       "    }\n",
       "  }\n",
       "\n",
       "  /**\n",
       "   * Handle when a new output is added\n",
       "   */\n",
       "  function handleAddOutput(event, handle) {\n",
       "    var output_area = handle.output_area;\n",
       "    var output = handle.output;\n",
       "\n",
       "    // limit handleAddOutput to display_data with EXEC_MIME_TYPE content only\n",
       "    if ((output.output_type != \"display_data\") || (!output.data.hasOwnProperty(EXEC_MIME_TYPE))) {\n",
       "      return\n",
       "    }\n",
       "\n",
       "    var toinsert = output_area.element.find(\".\" + CLASS_NAME.split(' ')[0]);\n",
       "\n",
       "    if (output.metadata[EXEC_MIME_TYPE][\"id\"] !== undefined) {\n",
       "      toinsert[toinsert.length - 1].firstChild.textContent = output.data[JS_MIME_TYPE];\n",
       "      // store reference to embed id on output_area\n",
       "      output_area._bokeh_element_id = output.metadata[EXEC_MIME_TYPE][\"id\"];\n",
       "    }\n",
       "    if (output.metadata[EXEC_MIME_TYPE][\"server_id\"] !== undefined) {\n",
       "      var bk_div = document.createElement(\"div\");\n",
       "      bk_div.innerHTML = output.data[HTML_MIME_TYPE];\n",
       "      var script_attrs = bk_div.children[0].attributes;\n",
       "      for (var i = 0; i < script_attrs.length; i++) {\n",
       "        toinsert[toinsert.length - 1].firstChild.setAttribute(script_attrs[i].name, script_attrs[i].value);\n",
       "        toinsert[toinsert.length - 1].firstChild.textContent = bk_div.children[0].textContent\n",
       "      }\n",
       "      // store reference to server id on output_area\n",
       "      output_area._bokeh_server_id = output.metadata[EXEC_MIME_TYPE][\"server_id\"];\n",
       "    }\n",
       "  }\n",
       "\n",
       "  function register_renderer(events, OutputArea) {\n",
       "\n",
       "    function append_mime(data, metadata, element) {\n",
       "      // create a DOM node to render to\n",
       "      var toinsert = this.create_output_subarea(\n",
       "        metadata,\n",
       "        CLASS_NAME,\n",
       "        EXEC_MIME_TYPE\n",
       "      );\n",
       "      this.keyboard_manager.register_events(toinsert);\n",
       "      // Render to node\n",
       "      var props = {data: data, metadata: metadata[EXEC_MIME_TYPE]};\n",
       "      render(props, toinsert[toinsert.length - 1]);\n",
       "      element.append(toinsert);\n",
       "      return toinsert\n",
       "    }\n",
       "\n",
       "    /* Handle when an output is cleared or removed */\n",
       "    events.on('clear_output.CodeCell', handleClearOutput);\n",
       "    events.on('delete.Cell', handleClearOutput);\n",
       "\n",
       "    /* Handle when a new output is added */\n",
       "    events.on('output_added.OutputArea', handleAddOutput);\n",
       "\n",
       "    /**\n",
       "     * Register the mime type and append_mime function with output_area\n",
       "     */\n",
       "    OutputArea.prototype.register_mime_type(EXEC_MIME_TYPE, append_mime, {\n",
       "      /* Is output safe? */\n",
       "      safe: true,\n",
       "      /* Index of renderer in `output_area.display_order` */\n",
       "      index: 0\n",
       "    });\n",
       "  }\n",
       "\n",
       "  // register the mime type if in Jupyter Notebook environment and previously unregistered\n",
       "  if (root.Jupyter !== undefined) {\n",
       "    var events = require('base/js/events');\n",
       "    var OutputArea = require('notebook/js/outputarea').OutputArea;\n",
       "\n",
       "    if (OutputArea.prototype.mime_types().indexOf(EXEC_MIME_TYPE) == -1) {\n",
       "      register_renderer(events, OutputArea);\n",
       "    }\n",
       "  }\n",
       "\n",
       "  \n",
       "  if (typeof (root._bokeh_timeout) === \"undefined\" || force === true) {\n",
       "    root._bokeh_timeout = Date.now() + 5000;\n",
       "    root._bokeh_failed_load = false;\n",
       "  }\n",
       "\n",
       "  var NB_LOAD_WARNING = {'data': {'text/html':\n",
       "     \"<div style='background-color: #fdd'>\\n\"+\n",
       "     \"<p>\\n\"+\n",
       "     \"BokehJS does not appear to have successfully loaded. If loading BokehJS from CDN, this \\n\"+\n",
       "     \"may be due to a slow or bad network connection. Possible fixes:\\n\"+\n",
       "     \"</p>\\n\"+\n",
       "     \"<ul>\\n\"+\n",
       "     \"<li>re-rerun `output_notebook()` to attempt to load from CDN again, or</li>\\n\"+\n",
       "     \"<li>use INLINE resources instead, as so:</li>\\n\"+\n",
       "     \"</ul>\\n\"+\n",
       "     \"<code>\\n\"+\n",
       "     \"from bokeh.resources import INLINE\\n\"+\n",
       "     \"output_notebook(resources=INLINE)\\n\"+\n",
       "     \"</code>\\n\"+\n",
       "     \"</div>\"}};\n",
       "\n",
       "  function display_loaded() {\n",
       "    var el = document.getElementById(\"1001\");\n",
       "    if (el != null) {\n",
       "      el.textContent = \"BokehJS is loading...\";\n",
       "    }\n",
       "    if (root.Bokeh !== undefined) {\n",
       "      if (el != null) {\n",
       "        el.textContent = \"BokehJS \" + root.Bokeh.version + \" successfully loaded.\";\n",
       "      }\n",
       "    } else if (Date.now() < root._bokeh_timeout) {\n",
       "      setTimeout(display_loaded, 100)\n",
       "    }\n",
       "  }\n",
       "\n",
       "\n",
       "  function run_callbacks() {\n",
       "    try {\n",
       "      root._bokeh_onload_callbacks.forEach(function(callback) {\n",
       "        if (callback != null)\n",
       "          callback();\n",
       "      });\n",
       "    } finally {\n",
       "      delete root._bokeh_onload_callbacks\n",
       "    }\n",
       "    console.debug(\"Bokeh: all callbacks have finished\");\n",
       "  }\n",
       "\n",
       "  function load_libs(css_urls, js_urls, callback) {\n",
       "    if (css_urls == null) css_urls = [];\n",
       "    if (js_urls == null) js_urls = [];\n",
       "\n",
       "    root._bokeh_onload_callbacks.push(callback);\n",
       "    if (root._bokeh_is_loading > 0) {\n",
       "      console.debug(\"Bokeh: BokehJS is being loaded, scheduling callback at\", now());\n",
       "      return null;\n",
       "    }\n",
       "    if (js_urls == null || js_urls.length === 0) {\n",
       "      run_callbacks();\n",
       "      return null;\n",
       "    }\n",
       "    console.debug(\"Bokeh: BokehJS not loaded, scheduling load and callback at\", now());\n",
       "    root._bokeh_is_loading = css_urls.length + js_urls.length;\n",
       "\n",
       "    function on_load() {\n",
       "      root._bokeh_is_loading--;\n",
       "      if (root._bokeh_is_loading === 0) {\n",
       "        console.debug(\"Bokeh: all BokehJS libraries/stylesheets loaded\");\n",
       "        run_callbacks()\n",
       "      }\n",
       "    }\n",
       "\n",
       "    function on_error() {\n",
       "      console.error(\"failed to load \" + url);\n",
       "    }\n",
       "\n",
       "    for (var i = 0; i < css_urls.length; i++) {\n",
       "      var url = css_urls[i];\n",
       "      const element = document.createElement(\"link\");\n",
       "      element.onload = on_load;\n",
       "      element.onerror = on_error;\n",
       "      element.rel = \"stylesheet\";\n",
       "      element.type = \"text/css\";\n",
       "      element.href = url;\n",
       "      console.debug(\"Bokeh: injecting link tag for BokehJS stylesheet: \", url);\n",
       "      document.body.appendChild(element);\n",
       "    }\n",
       "\n",
       "    const hashes = {\"https://cdn.bokeh.org/bokeh/release/bokeh-2.2.3.min.js\": \"T2yuo9Oe71Cz/I4X9Ac5+gpEa5a8PpJCDlqKYO0CfAuEszu1JrXLl8YugMqYe3sM\", \"https://cdn.bokeh.org/bokeh/release/bokeh-widgets-2.2.3.min.js\": \"98GDGJ0kOMCUMUePhksaQ/GYgB3+NH9h996V88sh3aOiUNX3N+fLXAtry6xctSZ6\", \"https://cdn.bokeh.org/bokeh/release/bokeh-tables-2.2.3.min.js\": \"89bArO+nlbP3sgakeHjCo1JYxYR5wufVgA3IbUvDY+K7w4zyxJqssu7wVnfeKCq8\"};\n",
       "\n",
       "    for (var i = 0; i < js_urls.length; i++) {\n",
       "      var url = js_urls[i];\n",
       "      var element = document.createElement('script');\n",
       "      element.onload = on_load;\n",
       "      element.onerror = on_error;\n",
       "      element.async = false;\n",
       "      element.src = url;\n",
       "      if (url in hashes) {\n",
       "        element.crossOrigin = \"anonymous\";\n",
       "        element.integrity = \"sha384-\" + hashes[url];\n",
       "      }\n",
       "      console.debug(\"Bokeh: injecting script tag for BokehJS library: \", url);\n",
       "      document.head.appendChild(element);\n",
       "    }\n",
       "  };\n",
       "\n",
       "  function inject_raw_css(css) {\n",
       "    const element = document.createElement(\"style\");\n",
       "    element.appendChild(document.createTextNode(css));\n",
       "    document.body.appendChild(element);\n",
       "  }\n",
       "\n",
       "  \n",
       "  var js_urls = [\"https://cdn.bokeh.org/bokeh/release/bokeh-2.2.3.min.js\", \"https://cdn.bokeh.org/bokeh/release/bokeh-widgets-2.2.3.min.js\", \"https://cdn.bokeh.org/bokeh/release/bokeh-tables-2.2.3.min.js\"];\n",
       "  var css_urls = [];\n",
       "  \n",
       "\n",
       "  var inline_js = [\n",
       "    function(Bokeh) {\n",
       "      Bokeh.set_log_level(\"info\");\n",
       "    },\n",
       "    function(Bokeh) {\n",
       "    \n",
       "    \n",
       "    }\n",
       "  ];\n",
       "\n",
       "  function run_inline_js() {\n",
       "    \n",
       "    if (root.Bokeh !== undefined || force === true) {\n",
       "      \n",
       "    for (var i = 0; i < inline_js.length; i++) {\n",
       "      inline_js[i].call(root, root.Bokeh);\n",
       "    }\n",
       "    if (force === true) {\n",
       "        display_loaded();\n",
       "      }} else if (Date.now() < root._bokeh_timeout) {\n",
       "      setTimeout(run_inline_js, 100);\n",
       "    } else if (!root._bokeh_failed_load) {\n",
       "      console.log(\"Bokeh: BokehJS failed to load within specified timeout.\");\n",
       "      root._bokeh_failed_load = true;\n",
       "    } else if (force !== true) {\n",
       "      var cell = $(document.getElementById(\"1001\")).parents('.cell').data().cell;\n",
       "      cell.output_area.append_execute_result(NB_LOAD_WARNING)\n",
       "    }\n",
       "\n",
       "  }\n",
       "\n",
       "  if (root._bokeh_is_loading === 0) {\n",
       "    console.debug(\"Bokeh: BokehJS loaded, going straight to plotting\");\n",
       "    run_inline_js();\n",
       "  } else {\n",
       "    load_libs(css_urls, js_urls, function() {\n",
       "      console.debug(\"Bokeh: BokehJS plotting callback run at\", now());\n",
       "      run_inline_js();\n",
       "    });\n",
       "  }\n",
       "}(window));"
      ],
      "application/vnd.bokehjs_load.v0+json": "\n(function(root) {\n  function now() {\n    return new Date();\n  }\n\n  var force = true;\n\n  if (typeof root._bokeh_onload_callbacks === \"undefined\" || force === true) {\n    root._bokeh_onload_callbacks = [];\n    root._bokeh_is_loading = undefined;\n  }\n\n  \n\n  \n  if (typeof (root._bokeh_timeout) === \"undefined\" || force === true) {\n    root._bokeh_timeout = Date.now() + 5000;\n    root._bokeh_failed_load = false;\n  }\n\n  var NB_LOAD_WARNING = {'data': {'text/html':\n     \"<div style='background-color: #fdd'>\\n\"+\n     \"<p>\\n\"+\n     \"BokehJS does not appear to have successfully loaded. If loading BokehJS from CDN, this \\n\"+\n     \"may be due to a slow or bad network connection. Possible fixes:\\n\"+\n     \"</p>\\n\"+\n     \"<ul>\\n\"+\n     \"<li>re-rerun `output_notebook()` to attempt to load from CDN again, or</li>\\n\"+\n     \"<li>use INLINE resources instead, as so:</li>\\n\"+\n     \"</ul>\\n\"+\n     \"<code>\\n\"+\n     \"from bokeh.resources import INLINE\\n\"+\n     \"output_notebook(resources=INLINE)\\n\"+\n     \"</code>\\n\"+\n     \"</div>\"}};\n\n  function display_loaded() {\n    var el = document.getElementById(\"1001\");\n    if (el != null) {\n      el.textContent = \"BokehJS is loading...\";\n    }\n    if (root.Bokeh !== undefined) {\n      if (el != null) {\n        el.textContent = \"BokehJS \" + root.Bokeh.version + \" successfully loaded.\";\n      }\n    } else if (Date.now() < root._bokeh_timeout) {\n      setTimeout(display_loaded, 100)\n    }\n  }\n\n\n  function run_callbacks() {\n    try {\n      root._bokeh_onload_callbacks.forEach(function(callback) {\n        if (callback != null)\n          callback();\n      });\n    } finally {\n      delete root._bokeh_onload_callbacks\n    }\n    console.debug(\"Bokeh: all callbacks have finished\");\n  }\n\n  function load_libs(css_urls, js_urls, callback) {\n    if (css_urls == null) css_urls = [];\n    if (js_urls == null) js_urls = [];\n\n    root._bokeh_onload_callbacks.push(callback);\n    if (root._bokeh_is_loading > 0) {\n      console.debug(\"Bokeh: BokehJS is being loaded, scheduling callback at\", now());\n      return null;\n    }\n    if (js_urls == null || js_urls.length === 0) {\n      run_callbacks();\n      return null;\n    }\n    console.debug(\"Bokeh: BokehJS not loaded, scheduling load and callback at\", now());\n    root._bokeh_is_loading = css_urls.length + js_urls.length;\n\n    function on_load() {\n      root._bokeh_is_loading--;\n      if (root._bokeh_is_loading === 0) {\n        console.debug(\"Bokeh: all BokehJS libraries/stylesheets loaded\");\n        run_callbacks()\n      }\n    }\n\n    function on_error() {\n      console.error(\"failed to load \" + url);\n    }\n\n    for (var i = 0; i < css_urls.length; i++) {\n      var url = css_urls[i];\n      const element = document.createElement(\"link\");\n      element.onload = on_load;\n      element.onerror = on_error;\n      element.rel = \"stylesheet\";\n      element.type = \"text/css\";\n      element.href = url;\n      console.debug(\"Bokeh: injecting link tag for BokehJS stylesheet: \", url);\n      document.body.appendChild(element);\n    }\n\n    const hashes = {\"https://cdn.bokeh.org/bokeh/release/bokeh-2.2.3.min.js\": \"T2yuo9Oe71Cz/I4X9Ac5+gpEa5a8PpJCDlqKYO0CfAuEszu1JrXLl8YugMqYe3sM\", \"https://cdn.bokeh.org/bokeh/release/bokeh-widgets-2.2.3.min.js\": \"98GDGJ0kOMCUMUePhksaQ/GYgB3+NH9h996V88sh3aOiUNX3N+fLXAtry6xctSZ6\", \"https://cdn.bokeh.org/bokeh/release/bokeh-tables-2.2.3.min.js\": \"89bArO+nlbP3sgakeHjCo1JYxYR5wufVgA3IbUvDY+K7w4zyxJqssu7wVnfeKCq8\"};\n\n    for (var i = 0; i < js_urls.length; i++) {\n      var url = js_urls[i];\n      var element = document.createElement('script');\n      element.onload = on_load;\n      element.onerror = on_error;\n      element.async = false;\n      element.src = url;\n      if (url in hashes) {\n        element.crossOrigin = \"anonymous\";\n        element.integrity = \"sha384-\" + hashes[url];\n      }\n      console.debug(\"Bokeh: injecting script tag for BokehJS library: \", url);\n      document.head.appendChild(element);\n    }\n  };\n\n  function inject_raw_css(css) {\n    const element = document.createElement(\"style\");\n    element.appendChild(document.createTextNode(css));\n    document.body.appendChild(element);\n  }\n\n  \n  var js_urls = [\"https://cdn.bokeh.org/bokeh/release/bokeh-2.2.3.min.js\", \"https://cdn.bokeh.org/bokeh/release/bokeh-widgets-2.2.3.min.js\", \"https://cdn.bokeh.org/bokeh/release/bokeh-tables-2.2.3.min.js\"];\n  var css_urls = [];\n  \n\n  var inline_js = [\n    function(Bokeh) {\n      Bokeh.set_log_level(\"info\");\n    },\n    function(Bokeh) {\n    \n    \n    }\n  ];\n\n  function run_inline_js() {\n    \n    if (root.Bokeh !== undefined || force === true) {\n      \n    for (var i = 0; i < inline_js.length; i++) {\n      inline_js[i].call(root, root.Bokeh);\n    }\n    if (force === true) {\n        display_loaded();\n      }} else if (Date.now() < root._bokeh_timeout) {\n      setTimeout(run_inline_js, 100);\n    } else if (!root._bokeh_failed_load) {\n      console.log(\"Bokeh: BokehJS failed to load within specified timeout.\");\n      root._bokeh_failed_load = true;\n    } else if (force !== true) {\n      var cell = $(document.getElementById(\"1001\")).parents('.cell').data().cell;\n      cell.output_area.append_execute_result(NB_LOAD_WARNING)\n    }\n\n  }\n\n  if (root._bokeh_is_loading === 0) {\n    console.debug(\"Bokeh: BokehJS loaded, going straight to plotting\");\n    run_inline_js();\n  } else {\n    load_libs(css_urls, js_urls, function() {\n      console.debug(\"Bokeh: BokehJS plotting callback run at\", now());\n      run_inline_js();\n    });\n  }\n}(window));"
     },
     "metadata": {},
     "output_type": "display_data"
    }
   ],
   "source": [
    "import bokeh.plotting\n",
    "from bokeh.io import output_notebook, push_notebook\n",
    "import bokeh.io\n",
    "output_notebook()"
   ]
  },
  {
   "cell_type": "code",
   "execution_count": 4,
   "metadata": {
    "ExecuteTime": {
     "end_time": "2020-11-16T11:13:15.668357Z",
     "start_time": "2020-11-16T11:13:15.632453Z"
    }
   },
   "outputs": [],
   "source": [
    "from bokeh.models import ColumnDataSource,BooleanFilter, CDSView, Range1d\n",
    "from bokeh.models import DatetimeTickFormatter\n",
    "from bokeh.io import curdoc"
   ]
  },
  {
   "cell_type": "code",
   "execution_count": 15,
   "metadata": {
    "ExecuteTime": {
     "end_time": "2020-11-16T11:29:36.868502Z",
     "start_time": "2020-11-16T11:29:36.851546Z"
    }
   },
   "outputs": [],
   "source": [
    "from df_transforms_ver1 import get_df_freq, get_sec_from_freq, get_next_datetime, ConvertFreqOHLCV, middle_sample_type_with_check"
   ]
  },
  {
   "cell_type": "code",
   "execution_count": 6,
   "metadata": {
    "ExecuteTime": {
     "end_time": "2020-11-16T11:13:17.546360Z",
     "start_time": "2020-11-16T11:13:15.756123Z"
    }
   },
   "outputs": [],
   "source": [
    "from yahoo_stock_reader_ver1 import YahooFinanceStockLoaderMin"
   ]
  },
  {
   "cell_type": "markdown",
   "metadata": {},
   "source": [
    "### データの読み込み "
   ]
  },
  {
   "cell_type": "code",
   "execution_count": 7,
   "metadata": {
    "ExecuteTime": {
     "end_time": "2020-11-16T11:13:23.448605Z",
     "start_time": "2020-11-16T11:13:17.557309Z"
    }
   },
   "outputs": [
    {
     "name": "stdout",
     "output_type": "stream",
     "text": [
      "                           Open_4755  High_4755  Low_4755  Close_4755  \\\n",
      "timestamp                                                               \n",
      "2020-11-12 09:00:00+09:00     1133.0     1136.0    1125.0      1128.0   \n",
      "2020-11-12 09:01:00+09:00     1130.0     1130.0    1125.0      1128.0   \n",
      "2020-11-12 09:02:00+09:00     1128.0     1128.0    1123.0      1123.0   \n",
      "2020-11-12 09:03:00+09:00     1123.0     1125.0    1120.0      1122.0   \n",
      "2020-11-12 09:04:00+09:00     1122.0     1125.0    1121.0      1125.0   \n",
      "\n",
      "                           Volume_4755  \n",
      "timestamp                               \n",
      "2020-11-12 09:00:00+09:00          0.0  \n",
      "2020-11-12 09:01:00+09:00      53200.0  \n",
      "2020-11-12 09:02:00+09:00      47200.0  \n",
      "2020-11-12 09:03:00+09:00      72300.0  \n",
      "2020-11-12 09:04:00+09:00      27500.0  \n",
      "                           Open_4755  High_4755  Low_4755  Close_4755  \\\n",
      "timestamp                                                               \n",
      "2020-11-16 14:55:00+09:00     1110.0     1110.0    1109.0      1109.0   \n",
      "2020-11-16 14:56:00+09:00     1109.0     1110.0    1108.0      1110.0   \n",
      "2020-11-16 14:57:00+09:00     1110.0     1110.0    1108.0      1110.0   \n",
      "2020-11-16 14:58:00+09:00     1109.0     1110.0    1107.0      1108.0   \n",
      "2020-11-16 14:59:00+09:00     1108.0     1109.0    1107.0      1108.0   \n",
      "\n",
      "                           Volume_4755  \n",
      "timestamp                               \n",
      "2020-11-16 14:55:00+09:00      48600.0  \n",
      "2020-11-16 14:56:00+09:00     124200.0  \n",
      "2020-11-16 14:57:00+09:00     137700.0  \n",
      "2020-11-16 14:58:00+09:00     209900.0  \n",
      "2020-11-16 14:59:00+09:00     206900.0  \n"
     ]
    }
   ],
   "source": [
    "stock_names = [\"4755.T\"]  # 楽天\n",
    "\n",
    "stockloader = YahooFinanceStockLoaderMin(stock_names, stop_time_span=2.0, is_use_stop=False)\n",
    "stock_df = stockloader.load()\n",
    "print(stock_df.head(5))\n",
    "print(stock_df.tail(5))"
   ]
  },
  {
   "cell_type": "code",
   "execution_count": 10,
   "metadata": {
    "ExecuteTime": {
     "end_time": "2020-11-16T11:14:18.579195Z",
     "start_time": "2020-11-16T11:14:18.369761Z"
    }
   },
   "outputs": [
    {
     "data": {
      "text/html": [
       "<div>\n",
       "<style scoped>\n",
       "    .dataframe tbody tr th:only-of-type {\n",
       "        vertical-align: middle;\n",
       "    }\n",
       "\n",
       "    .dataframe tbody tr th {\n",
       "        vertical-align: top;\n",
       "    }\n",
       "\n",
       "    .dataframe thead th {\n",
       "        text-align: right;\n",
       "    }\n",
       "</style>\n",
       "<table border=\"1\" class=\"dataframe\">\n",
       "  <thead>\n",
       "    <tr style=\"text-align: right;\">\n",
       "      <th></th>\n",
       "      <th>Open_4755</th>\n",
       "      <th>High_4755</th>\n",
       "      <th>Low_4755</th>\n",
       "      <th>Close_4755</th>\n",
       "      <th>Volume_4755</th>\n",
       "    </tr>\n",
       "    <tr>\n",
       "      <th>timestamp</th>\n",
       "      <th></th>\n",
       "      <th></th>\n",
       "      <th></th>\n",
       "      <th></th>\n",
       "      <th></th>\n",
       "    </tr>\n",
       "  </thead>\n",
       "  <tbody>\n",
       "    <tr>\n",
       "      <th>2020-11-16 12:30:00+09:00</th>\n",
       "      <td>1118.0</td>\n",
       "      <td>1122.0</td>\n",
       "      <td>1117.0</td>\n",
       "      <td>1121.0</td>\n",
       "      <td>4608900.0</td>\n",
       "    </tr>\n",
       "    <tr>\n",
       "      <th>2020-11-16 12:31:00+09:00</th>\n",
       "      <td>1121.0</td>\n",
       "      <td>1122.0</td>\n",
       "      <td>1119.0</td>\n",
       "      <td>1122.0</td>\n",
       "      <td>31200.0</td>\n",
       "    </tr>\n",
       "    <tr>\n",
       "      <th>2020-11-16 12:32:00+09:00</th>\n",
       "      <td>1123.0</td>\n",
       "      <td>1125.0</td>\n",
       "      <td>1123.0</td>\n",
       "      <td>1125.0</td>\n",
       "      <td>26200.0</td>\n",
       "    </tr>\n",
       "    <tr>\n",
       "      <th>2020-11-16 12:33:00+09:00</th>\n",
       "      <td>1124.0</td>\n",
       "      <td>1125.0</td>\n",
       "      <td>1123.0</td>\n",
       "      <td>1124.0</td>\n",
       "      <td>20100.0</td>\n",
       "    </tr>\n",
       "    <tr>\n",
       "      <th>2020-11-16 12:34:00+09:00</th>\n",
       "      <td>1123.0</td>\n",
       "      <td>1124.0</td>\n",
       "      <td>1121.0</td>\n",
       "      <td>1121.0</td>\n",
       "      <td>18900.0</td>\n",
       "    </tr>\n",
       "    <tr>\n",
       "      <th>...</th>\n",
       "      <td>...</td>\n",
       "      <td>...</td>\n",
       "      <td>...</td>\n",
       "      <td>...</td>\n",
       "      <td>...</td>\n",
       "    </tr>\n",
       "    <tr>\n",
       "      <th>2020-11-16 14:55:00+09:00</th>\n",
       "      <td>1110.0</td>\n",
       "      <td>1110.0</td>\n",
       "      <td>1109.0</td>\n",
       "      <td>1109.0</td>\n",
       "      <td>48600.0</td>\n",
       "    </tr>\n",
       "    <tr>\n",
       "      <th>2020-11-16 14:56:00+09:00</th>\n",
       "      <td>1109.0</td>\n",
       "      <td>1110.0</td>\n",
       "      <td>1108.0</td>\n",
       "      <td>1110.0</td>\n",
       "      <td>124200.0</td>\n",
       "    </tr>\n",
       "    <tr>\n",
       "      <th>2020-11-16 14:57:00+09:00</th>\n",
       "      <td>1110.0</td>\n",
       "      <td>1110.0</td>\n",
       "      <td>1108.0</td>\n",
       "      <td>1110.0</td>\n",
       "      <td>137700.0</td>\n",
       "    </tr>\n",
       "    <tr>\n",
       "      <th>2020-11-16 14:58:00+09:00</th>\n",
       "      <td>1109.0</td>\n",
       "      <td>1110.0</td>\n",
       "      <td>1107.0</td>\n",
       "      <td>1108.0</td>\n",
       "      <td>209900.0</td>\n",
       "    </tr>\n",
       "    <tr>\n",
       "      <th>2020-11-16 14:59:00+09:00</th>\n",
       "      <td>1108.0</td>\n",
       "      <td>1109.0</td>\n",
       "      <td>1107.0</td>\n",
       "      <td>1108.0</td>\n",
       "      <td>206900.0</td>\n",
       "    </tr>\n",
       "  </tbody>\n",
       "</table>\n",
       "<p>150 rows × 5 columns</p>\n",
       "</div>"
      ],
      "text/plain": [
       "                           Open_4755  High_4755  Low_4755  Close_4755  \\\n",
       "timestamp                                                               \n",
       "2020-11-16 12:30:00+09:00     1118.0     1122.0    1117.0      1121.0   \n",
       "2020-11-16 12:31:00+09:00     1121.0     1122.0    1119.0      1122.0   \n",
       "2020-11-16 12:32:00+09:00     1123.0     1125.0    1123.0      1125.0   \n",
       "2020-11-16 12:33:00+09:00     1124.0     1125.0    1123.0      1124.0   \n",
       "2020-11-16 12:34:00+09:00     1123.0     1124.0    1121.0      1121.0   \n",
       "...                              ...        ...       ...         ...   \n",
       "2020-11-16 14:55:00+09:00     1110.0     1110.0    1109.0      1109.0   \n",
       "2020-11-16 14:56:00+09:00     1109.0     1110.0    1108.0      1110.0   \n",
       "2020-11-16 14:57:00+09:00     1110.0     1110.0    1108.0      1110.0   \n",
       "2020-11-16 14:58:00+09:00     1109.0     1110.0    1107.0      1108.0   \n",
       "2020-11-16 14:59:00+09:00     1108.0     1109.0    1107.0      1108.0   \n",
       "\n",
       "                           Volume_4755  \n",
       "timestamp                               \n",
       "2020-11-16 12:30:00+09:00    4608900.0  \n",
       "2020-11-16 12:31:00+09:00      31200.0  \n",
       "2020-11-16 12:32:00+09:00      26200.0  \n",
       "2020-11-16 12:33:00+09:00      20100.0  \n",
       "2020-11-16 12:34:00+09:00      18900.0  \n",
       "...                                ...  \n",
       "2020-11-16 14:55:00+09:00      48600.0  \n",
       "2020-11-16 14:56:00+09:00     124200.0  \n",
       "2020-11-16 14:57:00+09:00     137700.0  \n",
       "2020-11-16 14:58:00+09:00     209900.0  \n",
       "2020-11-16 14:59:00+09:00     206900.0  \n",
       "\n",
       "[150 rows x 5 columns]"
      ]
     },
     "execution_count": 10,
     "metadata": {},
     "output_type": "execute_result"
    }
   ],
   "source": [
    "day_before = datetime.date.today() - datetime.timedelta(days=0)  # 今日のデータはないので，一昨日\n",
    "\n",
    "\n",
    "jst_timezone = timezone(\"Asia/Tokyo\")\n",
    "#start_time = jst_timezone.localize(datetime.datetime(day_before.year, day_before.month, day_before.day, 9, 0, 0))\n",
    "start_time = jst_timezone.localize(datetime.datetime(day_before.year, day_before.month, day_before.day, 12, 30, 0))\n",
    "#end_time = jst_timezone.localize(datetime.datetime(day_before.year, day_before.month, day_before.day, 12, 30, 0))\n",
    "end_time = jst_timezone.localize(datetime.datetime(day_before.year, day_before.month, day_before.day, 15, 0, 0))\n",
    "sub_stock_df = stock_df[(stock_df.index>=start_time)&(stock_df.index<end_time)].copy()  # locとスライスを利用すると両端を含めてしまうため\n",
    "sub_stock_df"
   ]
  },
  {
   "cell_type": "markdown",
   "metadata": {},
   "source": [
    "### 静的ロウソク足チャートの描画 "
   ]
  },
  {
   "cell_type": "markdown",
   "metadata": {},
   "source": [
    "[こちら](https://docs.bokeh.org/en/latest/docs/gallery/candlestick.html)を参考とした．"
   ]
  },
  {
   "cell_type": "code",
   "execution_count": 95,
   "metadata": {
    "ExecuteTime": {
     "end_time": "2020-11-16T13:22:21.147820Z",
     "start_time": "2020-11-16T13:22:21.075009Z"
    }
   },
   "outputs": [],
   "source": [
    "def static_candlestick(df, ohlc_dict, freq_str=None):\n",
    "    if freq_str is None:\n",
    "        freq_str = get_df_freq(df)\n",
    "    \n",
    "    df = df.copy()  # index等を変更するため\n",
    "    \n",
    "    # 同じdatetmeを持つnaiveなdatetimeに変形\n",
    "    if df.index.tzinfo is not None:  # awareな場合\n",
    "        df.index = df.index.tz_localize(None)\n",
    "        \n",
    "    convert = ConvertFreqOHLCV(freq_str)\n",
    "    df = convert(df)\n",
    "        \n",
    "    seconds = get_sec_from_freq(freq_str)\n",
    "        \n",
    "    if set(list(ohlc_dict.keys())) < set([\"Open\", \"High\", \"Low\", \"Close\"]):\n",
    "           raise ValueError(\"keys of ohlc_dict must have 'Open', 'High', 'Low', 'Close'.\")\n",
    "    elif set(list(ohlc_dict.keys())) > set([\"Open\", \"High\", \"Low\", \"Close\", \"Volume\"]):  #Volumeは別にあってもよい\n",
    "        raise ValueError(\"keys of ohlc_dict is too many.\")\n",
    "    \n",
    "    increase = df[ohlc_dict[\"Close\"]] >= df[ohlc_dict[\"Open\"]]  # ポジティブになるインデックス\n",
    "    decrease = df[ohlc_dict[\"Open\"]] > df[ohlc_dict[\"Close\"]]  # ネガティブになるインデックス\n",
    "    width = seconds*1000  # 分足なので，60秒,1000は？　micro second単位\n",
    "    \n",
    "    p = bokeh.plotting.figure(x_axis_type=\"datetime\", plot_width=1000)\n",
    "    \n",
    "    p.segment(df.index, df[ohlc_dict[\"High\"]], df.index, df[ohlc_dict[\"Low\"]],\n",
    "              color=\"black\"\n",
    "             )\n",
    "    p.vbar(df.index[increase],\n",
    "           width,\n",
    "           df[ohlc_dict[\"Open\"]][increase],\n",
    "           df[ohlc_dict[\"Close\"]][increase],\n",
    "           fill_color=\"#4be639\", line_color=\"black\"\n",
    "          )  # positive\n",
    "    p.vbar(df.index[decrease],\n",
    "           width,\n",
    "           df[ohlc_dict[\"Close\"]][decrease],\n",
    "           df[ohlc_dict[\"Open\"]][decrease],\n",
    "           fill_color=\"#F2583E\", line_color=\"black\"\n",
    "          )  # negative\n",
    "    \n",
    "    return p"
   ]
  },
  {
   "cell_type": "code",
   "execution_count": 96,
   "metadata": {
    "ExecuteTime": {
     "end_time": "2020-11-16T13:22:26.887479Z",
     "start_time": "2020-11-16T13:22:26.738870Z"
    }
   },
   "outputs": [],
   "source": [
    "ohlc_dict = {\"Open\":\"Open_4755\", \"High\":\"High_4755\", \"Low\":\"Low_4755\", \"Close\":\"Close_4755\"}\n",
    "\n",
    "p = static_candlestick(sub_stock_df, ohlc_dict, freq_str=\"5T\")"
   ]
  },
  {
   "cell_type": "code",
   "execution_count": 97,
   "metadata": {
    "ExecuteTime": {
     "end_time": "2020-11-16T13:22:28.226893Z",
     "start_time": "2020-11-16T13:22:27.514795Z"
    }
   },
   "outputs": [
    {
     "data": {
      "text/html": [
       "\n",
       "\n",
       "\n",
       "\n",
       "\n",
       "\n",
       "  <div class=\"bk-root\" id=\"85f39181-1ad2-4249-aa8a-360692e975a1\" data-root-id=\"16217\"></div>\n"
      ]
     },
     "metadata": {},
     "output_type": "display_data"
    },
    {
     "data": {
      "application/javascript": [
       "(function(root) {\n",
       "  function embed_document(root) {\n",
       "    \n",
       "  var docs_json = {\"373bb990-e2d8-41fa-9b3c-d3a78005041f\":{\"roots\":{\"references\":[{\"attributes\":{\"below\":[{\"id\":\"16226\"}],\"center\":[{\"id\":\"16229\"},{\"id\":\"16233\"}],\"left\":[{\"id\":\"16230\"}],\"plot_width\":1000,\"renderers\":[{\"id\":\"16251\"},{\"id\":\"16256\"},{\"id\":\"16261\"}],\"title\":{\"id\":\"16489\"},\"toolbar\":{\"id\":\"16241\"},\"x_range\":{\"id\":\"16218\"},\"x_scale\":{\"id\":\"16222\"},\"y_range\":{\"id\":\"16220\"},\"y_scale\":{\"id\":\"16224\"}},\"id\":\"16217\",\"subtype\":\"Figure\",\"type\":\"Plot\"},{\"attributes\":{},\"id\":\"16239\",\"type\":\"HelpTool\"},{\"attributes\":{\"data\":{\"x0\":{\"__ndarray__\":\"AADUiBBdd0IAABLSEF13QgAAUBsRXXdCAACOZBFdd0IAAMytEV13QgAACvcRXXdCAABIQBJdd0IAAIaJEl13QgAAxNISXXdCAAACHBNdd0IAAEBlE113QgAAfq4TXXdCAAC89xNdd0IAAPpAFF13QgAAOIoUXXdCAAB20xRdd0IAALQcFV13QgAA8mUVXXdCAAAwrxVdd0IAAG74FV13QgAArEEWXXdCAADqihZdd0IAACjUFl13QgAAZh0XXXdCAACkZhddd0IAAOKvF113QgAAIPkXXXdCAABeQhhdd0IAAJyLGF13QgAA2tQYXXdC\",\"dtype\":\"float64\",\"order\":\"little\",\"shape\":[30]},\"x1\":{\"__ndarray__\":\"AADUiBBdd0IAABLSEF13QgAAUBsRXXdCAACOZBFdd0IAAMytEV13QgAACvcRXXdCAABIQBJdd0IAAIaJEl13QgAAxNISXXdCAAACHBNdd0IAAEBlE113QgAAfq4TXXdCAAC89xNdd0IAAPpAFF13QgAAOIoUXXdCAAB20xRdd0IAALQcFV13QgAA8mUVXXdCAAAwrxVdd0IAAG74FV13QgAArEEWXXdCAADqihZdd0IAACjUFl13QgAAZh0XXXdCAACkZhddd0IAAOKvF113QgAAIPkXXXdCAABeQhhdd0IAAJyLGF13QgAA2tQYXXdC\",\"dtype\":\"float64\",\"order\":\"little\",\"shape\":[30]},\"y0\":{\"__ndarray__\":\"AAAAAACUkUAAAAAAAIyRQAAAAAAAjJFAAAAAAACAkUAAAAAAAICRQAAAAAAAdJFAAAAAAAB0kUAAAAAAAGiRQAAAAAAAaJFAAAAAAABskUAAAAAAAGyRQAAAAAAAcJFAAAAAAABokUAAAAAAAGyRQAAAAAAAbJFAAAAAAABskUAAAAAAAHSRQAAAAAAAaJFAAAAAAABskUAAAAAAAGSRQAAAAAAAaJFAAAAAAABgkUAAAAAAAGCRQAAAAAAAYJFAAAAAAABgkUAAAAAAAFyRQAAAAAAAXJFAAAAAAABckUAAAAAAAFyRQAAAAAAAWJFA\",\"dtype\":\"float64\",\"order\":\"little\",\"shape\":[30]},\"y1\":{\"__ndarray__\":\"AAAAAAB0kUAAAAAAAICRQAAAAAAAdJFAAAAAAAB0kUAAAAAAAHSRQAAAAAAAZJFAAAAAAABgkUAAAAAAAGCRQAAAAAAAYJFAAAAAAABgkUAAAAAAAGSRQAAAAAAAYJFAAAAAAABMkUAAAAAAAFSRQAAAAAAAZJFAAAAAAABokUAAAAAAAGiRQAAAAAAAZJFAAAAAAABkkUAAAAAAAGCRQAAAAAAAXJFAAAAAAABUkUAAAAAAAFSRQAAAAAAAVJFAAAAAAABUkUAAAAAAAFSRQAAAAAAAWJFAAAAAAABUkUAAAAAAAEyRQAAAAAAATJFA\",\"dtype\":\"float64\",\"order\":\"little\",\"shape\":[30]}},\"selected\":{\"id\":\"16495\"},\"selection_policy\":{\"id\":\"16496\"}},\"id\":\"16248\",\"type\":\"ColumnDataSource\"},{\"attributes\":{\"source\":{\"id\":\"16248\"}},\"id\":\"16252\",\"type\":\"CDSView\"},{\"attributes\":{\"data\":{\"bottom\":{\"__ndarray__\":\"AAAAAACEkUAAAAAAAIiRQAAAAAAAfJFAAAAAAABkkUAAAAAAAGiRQAAAAAAAbJFAAAAAAABokUAAAAAAAGiRQAAAAAAAbJFAAAAAAABskUAAAAAAAGiRQAAAAAAAZJFAAAAAAABYkUAAAAAAAFiRQAAAAAAAXJFAAAAAAABYkUA=\",\"dtype\":\"float64\",\"order\":\"little\",\"shape\":[16]},\"top\":{\"__ndarray__\":\"AAAAAAB4kUAAAAAAAISRQAAAAAAAeJFAAAAAAABkkUAAAAAAAGCRQAAAAAAAaJFAAAAAAABUkUAAAAAAAGiRQAAAAAAAaJFAAAAAAABokUAAAAAAAGiRQAAAAAAAZJFAAAAAAABUkUAAAAAAAFiRQAAAAAAAWJFAAAAAAABYkUA=\",\"dtype\":\"float64\",\"order\":\"little\",\"shape\":[16]},\"x\":{\"__ndarray__\":\"AADUiBBdd0IAABLSEF13QgAAjmQRXXdCAACGiRJdd0IAAAIcE113QgAAQGUTXXdCAAD6QBRdd0IAADiKFF13QgAAdtMUXXdCAAC0HBVdd0IAADCvFV13QgAAbvgVXXdCAABmHRddd0IAACD5F113QgAAXkIYXXdCAACcixhdd0I=\",\"dtype\":\"float64\",\"order\":\"little\",\"shape\":[16]}},\"selected\":{\"id\":\"16497\"},\"selection_policy\":{\"id\":\"16498\"}},\"id\":\"16253\",\"type\":\"ColumnDataSource\"},{\"attributes\":{},\"id\":\"16231\",\"type\":\"BasicTicker\"},{\"attributes\":{\"days\":[1,15]},\"id\":\"16507\",\"type\":\"DaysTicker\"},{\"attributes\":{\"months\":[0,1,2,3,4,5,6,7,8,9,10,11]},\"id\":\"16508\",\"type\":\"MonthsTicker\"},{\"attributes\":{},\"id\":\"16222\",\"type\":\"LinearScale\"},{\"attributes\":{\"line_alpha\":{\"value\":0.1},\"x0\":{\"field\":\"x0\"},\"x1\":{\"field\":\"x1\"},\"y0\":{\"field\":\"y0\"},\"y1\":{\"field\":\"y1\"}},\"id\":\"16250\",\"type\":\"Segment\"},{\"attributes\":{},\"id\":\"16496\",\"type\":\"UnionRenderers\"},{\"attributes\":{},\"id\":\"16499\",\"type\":\"Selection\"},{\"attributes\":{\"data_source\":{\"id\":\"16253\"},\"glyph\":{\"id\":\"16254\"},\"hover_glyph\":null,\"muted_glyph\":null,\"nonselection_glyph\":{\"id\":\"16255\"},\"selection_glyph\":null,\"view\":{\"id\":\"16257\"}},\"id\":\"16256\",\"type\":\"GlyphRenderer\"},{\"attributes\":{},\"id\":\"16238\",\"type\":\"ResetTool\"},{\"attributes\":{\"active_drag\":\"auto\",\"active_inspect\":\"auto\",\"active_multi\":null,\"active_scroll\":\"auto\",\"active_tap\":\"auto\",\"tools\":[{\"id\":\"16234\"},{\"id\":\"16235\"},{\"id\":\"16236\"},{\"id\":\"16237\"},{\"id\":\"16238\"},{\"id\":\"16239\"}]},\"id\":\"16241\",\"type\":\"Toolbar\"},{\"attributes\":{},\"id\":\"16495\",\"type\":\"Selection\"},{\"attributes\":{\"months\":[0,4,8]},\"id\":\"16510\",\"type\":\"MonthsTicker\"},{\"attributes\":{\"text\":\"\"},\"id\":\"16489\",\"type\":\"Title\"},{\"attributes\":{\"overlay\":{\"id\":\"16240\"}},\"id\":\"16236\",\"type\":\"BoxZoomTool\"},{\"attributes\":{\"bottom\":{\"field\":\"bottom\"},\"fill_color\":{\"value\":\"#F2583E\"},\"top\":{\"field\":\"top\"},\"width\":{\"value\":300000.0},\"x\":{\"field\":\"x\"}},\"id\":\"16259\",\"type\":\"VBar\"},{\"attributes\":{},\"id\":\"16491\",\"type\":\"DatetimeTickFormatter\"},{\"attributes\":{\"axis\":{\"id\":\"16226\"},\"ticker\":null},\"id\":\"16229\",\"type\":\"Grid\"},{\"attributes\":{\"data_source\":{\"id\":\"16248\"},\"glyph\":{\"id\":\"16249\"},\"hover_glyph\":null,\"muted_glyph\":null,\"nonselection_glyph\":{\"id\":\"16250\"},\"selection_glyph\":null,\"view\":{\"id\":\"16252\"}},\"id\":\"16251\",\"type\":\"GlyphRenderer\"},{\"attributes\":{\"bottom\":{\"field\":\"bottom\"},\"fill_alpha\":{\"value\":0.1},\"fill_color\":{\"value\":\"#4be639\"},\"line_alpha\":{\"value\":0.1},\"top\":{\"field\":\"top\"},\"width\":{\"value\":300000.0},\"x\":{\"field\":\"x\"}},\"id\":\"16255\",\"type\":\"VBar\"},{\"attributes\":{\"data_source\":{\"id\":\"16258\"},\"glyph\":{\"id\":\"16259\"},\"hover_glyph\":null,\"muted_glyph\":null,\"nonselection_glyph\":{\"id\":\"16260\"},\"selection_glyph\":null,\"view\":{\"id\":\"16262\"}},\"id\":\"16261\",\"type\":\"GlyphRenderer\"},{\"attributes\":{},\"id\":\"16497\",\"type\":\"Selection\"},{\"attributes\":{\"formatter\":{\"id\":\"16493\"},\"ticker\":{\"id\":\"16231\"}},\"id\":\"16230\",\"type\":\"LinearAxis\"},{\"attributes\":{\"source\":{\"id\":\"16258\"}},\"id\":\"16262\",\"type\":\"CDSView\"},{\"attributes\":{},\"id\":\"16498\",\"type\":\"UnionRenderers\"},{\"attributes\":{\"axis\":{\"id\":\"16230\"},\"dimension\":1,\"ticker\":null},\"id\":\"16233\",\"type\":\"Grid\"},{\"attributes\":{\"num_minor_ticks\":5,\"tickers\":[{\"id\":\"16501\"},{\"id\":\"16502\"},{\"id\":\"16503\"},{\"id\":\"16504\"},{\"id\":\"16505\"},{\"id\":\"16506\"},{\"id\":\"16507\"},{\"id\":\"16508\"},{\"id\":\"16509\"},{\"id\":\"16510\"},{\"id\":\"16511\"},{\"id\":\"16512\"}]},\"id\":\"16227\",\"type\":\"DatetimeTicker\"},{\"attributes\":{},\"id\":\"16218\",\"type\":\"DataRange1d\"},{\"attributes\":{\"data\":{\"bottom\":{\"__ndarray__\":\"AAAAAACIkUAAAAAAAHyRQAAAAAAAdJFAAAAAAABokUAAAAAAAGSRQAAAAAAAbJFAAAAAAABokUAAAAAAAGiRQAAAAAAAZJFAAAAAAABgkUAAAAAAAFyRQAAAAAAAYJFAAAAAAABckUAAAAAAAFiRQA==\",\"dtype\":\"float64\",\"order\":\"little\",\"shape\":[14]},\"top\":{\"__ndarray__\":\"AAAAAAB4kUAAAAAAAHiRQAAAAAAAbJFAAAAAAABkkUAAAAAAAGCRQAAAAAAAaJFAAAAAAABUkUAAAAAAAGSRQAAAAAAAYJFAAAAAAABckUAAAAAAAFSRQAAAAAAAWJFAAAAAAABYkUAAAAAAAFCRQA==\",\"dtype\":\"float64\",\"order\":\"little\",\"shape\":[14]},\"x\":{\"__ndarray__\":\"AABQGxFdd0IAAMytEV13QgAACvcRXXdCAABIQBJdd0IAAMTSEl13QgAAfq4TXXdCAAC89xNdd0IAAPJlFV13QgAArEEWXXdCAADqihZdd0IAACjUFl13QgAApGYXXXdCAADirxddd0IAANrUGF13Qg==\",\"dtype\":\"float64\",\"order\":\"little\",\"shape\":[14]}},\"selected\":{\"id\":\"16499\"},\"selection_policy\":{\"id\":\"16500\"}},\"id\":\"16258\",\"type\":\"ColumnDataSource\"},{\"attributes\":{\"base\":24,\"mantissas\":[1,2,4,6,8,12],\"max_interval\":43200000.0,\"min_interval\":3600000.0,\"num_minor_ticks\":0},\"id\":\"16503\",\"type\":\"AdaptiveTicker\"},{\"attributes\":{},\"id\":\"16234\",\"type\":\"PanTool\"},{\"attributes\":{\"months\":[0,6]},\"id\":\"16511\",\"type\":\"MonthsTicker\"},{\"attributes\":{},\"id\":\"16512\",\"type\":\"YearsTicker\"},{\"attributes\":{\"base\":60,\"mantissas\":[1,2,5,10,15,20,30],\"max_interval\":1800000.0,\"min_interval\":1000.0,\"num_minor_ticks\":0},\"id\":\"16502\",\"type\":\"AdaptiveTicker\"},{\"attributes\":{},\"id\":\"16220\",\"type\":\"DataRange1d\"},{\"attributes\":{},\"id\":\"16237\",\"type\":\"SaveTool\"},{\"attributes\":{\"days\":[1,8,15,22]},\"id\":\"16506\",\"type\":\"DaysTicker\"},{\"attributes\":{\"months\":[0,2,4,6,8,10]},\"id\":\"16509\",\"type\":\"MonthsTicker\"},{\"attributes\":{},\"id\":\"16235\",\"type\":\"WheelZoomTool\"},{\"attributes\":{\"source\":{\"id\":\"16253\"}},\"id\":\"16257\",\"type\":\"CDSView\"},{\"attributes\":{\"bottom_units\":\"screen\",\"fill_alpha\":0.5,\"fill_color\":\"lightgrey\",\"left_units\":\"screen\",\"level\":\"overlay\",\"line_alpha\":1.0,\"line_color\":\"black\",\"line_dash\":[4,4],\"line_width\":2,\"right_units\":\"screen\",\"top_units\":\"screen\"},\"id\":\"16240\",\"type\":\"BoxAnnotation\"},{\"attributes\":{},\"id\":\"16500\",\"type\":\"UnionRenderers\"},{\"attributes\":{\"mantissas\":[1,2,5],\"max_interval\":500.0,\"num_minor_ticks\":0},\"id\":\"16501\",\"type\":\"AdaptiveTicker\"},{\"attributes\":{\"days\":[1,4,7,10,13,16,19,22,25,28]},\"id\":\"16505\",\"type\":\"DaysTicker\"},{\"attributes\":{},\"id\":\"16224\",\"type\":\"LinearScale\"},{\"attributes\":{},\"id\":\"16493\",\"type\":\"BasicTickFormatter\"},{\"attributes\":{\"days\":[1,2,3,4,5,6,7,8,9,10,11,12,13,14,15,16,17,18,19,20,21,22,23,24,25,26,27,28,29,30,31]},\"id\":\"16504\",\"type\":\"DaysTicker\"},{\"attributes\":{\"x0\":{\"field\":\"x0\"},\"x1\":{\"field\":\"x1\"},\"y0\":{\"field\":\"y0\"},\"y1\":{\"field\":\"y1\"}},\"id\":\"16249\",\"type\":\"Segment\"},{\"attributes\":{\"bottom\":{\"field\":\"bottom\"},\"fill_color\":{\"value\":\"#4be639\"},\"top\":{\"field\":\"top\"},\"width\":{\"value\":300000.0},\"x\":{\"field\":\"x\"}},\"id\":\"16254\",\"type\":\"VBar\"},{\"attributes\":{\"bottom\":{\"field\":\"bottom\"},\"fill_alpha\":{\"value\":0.1},\"fill_color\":{\"value\":\"#F2583E\"},\"line_alpha\":{\"value\":0.1},\"top\":{\"field\":\"top\"},\"width\":{\"value\":300000.0},\"x\":{\"field\":\"x\"}},\"id\":\"16260\",\"type\":\"VBar\"},{\"attributes\":{\"formatter\":{\"id\":\"16491\"},\"ticker\":{\"id\":\"16227\"}},\"id\":\"16226\",\"type\":\"DatetimeAxis\"}],\"root_ids\":[\"16217\"]},\"title\":\"Bokeh Application\",\"version\":\"2.2.3\"}};\n",
       "  var render_items = [{\"docid\":\"373bb990-e2d8-41fa-9b3c-d3a78005041f\",\"root_ids\":[\"16217\"],\"roots\":{\"16217\":\"85f39181-1ad2-4249-aa8a-360692e975a1\"}}];\n",
       "  root.Bokeh.embed.embed_items_notebook(docs_json, render_items);\n",
       "\n",
       "  }\n",
       "  if (root.Bokeh !== undefined) {\n",
       "    embed_document(root);\n",
       "  } else {\n",
       "    var attempts = 0;\n",
       "    var timer = setInterval(function(root) {\n",
       "      if (root.Bokeh !== undefined) {\n",
       "        clearInterval(timer);\n",
       "        embed_document(root);\n",
       "      } else {\n",
       "        attempts++;\n",
       "        if (attempts > 100) {\n",
       "          clearInterval(timer);\n",
       "          console.log(\"Bokeh: ERROR: Unable to run BokehJS code because BokehJS library is missing\");\n",
       "        }\n",
       "      }\n",
       "    }, 10, root)\n",
       "  }\n",
       "})(window);"
      ],
      "application/vnd.bokehjs_exec.v0+json": ""
     },
     "metadata": {
      "application/vnd.bokehjs_exec.v0+json": {
       "id": "16217"
      }
     },
     "output_type": "display_data"
    }
   ],
   "source": [
    "bokeh.io.show(p)"
   ]
  },
  {
   "cell_type": "markdown",
   "metadata": {},
   "source": [
    "### 動的なロウソク足チャート"
   ]
  },
  {
   "cell_type": "markdown",
   "metadata": {},
   "source": [
    "#### データ供給クラス"
   ]
  },
  {
   "cell_type": "markdown",
   "metadata": {},
   "source": [
    "リアルタイムの更新を念頭においた動的に更新するロウソク足チャート．本来はデータベースに関して一つ一つ取り出すが，このリポジトリではDataFrameに関して行う．データ供給クラスはinitial_dataメソッドとiter_dataメソッドの二つを実装していればよい．"
   ]
  },
  {
   "cell_type": "code",
   "execution_count": 81,
   "metadata": {
    "ExecuteTime": {
     "end_time": "2020-11-16T13:00:43.674134Z",
     "start_time": "2020-11-16T13:00:43.580384Z"
    }
   },
   "outputs": [],
   "source": [
    "class StockDataSupplier():\n",
    "    \"\"\"\n",
    "    ロウソク足チャートの描画のためのデータ供給クラス．initial_data(描画開始時に描画するデータを返す)メソッドと\n",
    "    iter_data(一つ一つデータを返す)メソッドの二つを実装している必要がある．\n",
    "    \"\"\"\n",
    "    def __init__(self, df, freq_str):\n",
    "        self.stock_df = df\n",
    "        self.freq_str = freq_str\n",
    "        self.converter = ConvertFreqOHLCV(self.freq_str)  # サンプリング周期のコンバーター\n",
    "\n",
    "    def initial_data(self, start_datetime, end_datetime):\n",
    "        start_df_raw = self.stock_df[(self.stock_df.index >= start_datetime) & (self.stock_df.index < end_datetime)].copy()  # 一応コピー\n",
    "        start_df = self.converter(start_df_raw)\n",
    "        return start_df\n",
    "    \n",
    "    def iter_data(self, start_datetime):\n",
    "        temp_start_datetime = start_datetime  # 1イテレーションにおける開始時間\n",
    "        while True:\n",
    "            temp_end_datetime = get_next_datetime(temp_start_datetime, freq_str=self.freq_str)  # 1イテレーションにおける終了時間\n",
    "            one_df_raw = self.stock_df[(self.stock_df.index >= temp_start_datetime) & (self.stock_df.index < temp_end_datetime)].copy()  # 変更するので，コピー\n",
    "            if len(one_df_raw.index) < 1:  #empty dataframeの場合\n",
    "                one_df_raw.loc[temp_start_datetime] = None  #Noneで初期化\n",
    "                one_df_resampled = one_df_raw  # 長さ1なので，リサンプリングはしない\n",
    "            else:\n",
    "                one_df_resampled = self.converter(one_df_raw)  # リサンプリング\n",
    "            yield one_df_resampled\n",
    "            temp_start_datetime = temp_end_datetime  # 開始時間を修正"
   ]
  },
  {
   "cell_type": "markdown",
   "metadata": {},
   "source": [
    "以下の方法で描画を更新する\n",
    "- 株価データをColumnDataSourceとして保持\n",
    "- increase, decreaseの矩形描画それぞれのためのsourceのview(参照)をCDSViewとして保持\n",
    "- CDSViewにはfilterとしてincrease, decreaseに対応するboolのpandas.Seriesを渡す\n",
    "- 更新時には，souceのstreamメソッドを利用してデータを一つ一つ入れ，viewのfilterを与えなおす．"
   ]
  },
  {
   "cell_type": "markdown",
   "metadata": {},
   "source": [
    "sourceとviewの参考は[こちら](https://docs.bokeh.org/en/latest/docs/user_guide/data.html#filtering-data)"
   ]
  },
  {
   "cell_type": "markdown",
   "metadata": {},
   "source": [
    "#### 描画クラス "
   ]
  },
  {
   "cell_type": "code",
   "execution_count": 88,
   "metadata": {
    "ExecuteTime": {
     "end_time": "2020-11-16T13:15:57.534278Z",
     "start_time": "2020-11-16T13:15:57.218167Z"
    },
    "code_folding": []
   },
   "outputs": [],
   "source": [
    "class BokehCandleStick:\n",
    "    def __init__(self, \n",
    "                 stock_data_supplier,  \n",
    "                 ohlc_dict, \n",
    "                 initial_start_datetime, \n",
    "                 initial_end_datetime, \n",
    "                 freq_str=\"T\", \n",
    "                 figure=None,\n",
    "                 y_axis_margin=50, \n",
    "                 use_x_range=True,\n",
    "                 use_y_range=True,\n",
    "                 data_left_times=1,\n",
    "                 is_notebook=True,\n",
    "                 use_formatter=True\n",
    "                ):\n",
    "        \"\"\"\n",
    "        stock_supplier: StockDataSupplier or any\n",
    "            株価データを供給するためのクラス\n",
    "        ohlc_dict: dict of str\n",
    "            {\"Open\":カラム名,\"Close\":カラム名}のような辞書，stock_dbの出力に依存する\n",
    "        initial_start_date: datetime\n",
    "            開始時のx_rangeの下限のdatetime\n",
    "        initial_end_date: datetime\n",
    "            開始じのx_rangeの上限のdatetime\n",
    "        freq_str: str\n",
    "            サンプリング周期\n",
    "        figure: bokeh.plotting.Figure\n",
    "            複数描画の場合\n",
    "        y_axis_margin: int\n",
    "            yの表示領域のマージン\n",
    "        use_x_range: bool\n",
    "            このクラスにx_rangeの変更を任せるかどうか        \n",
    "        \"\"\"    \n",
    "        self.stock_data_supplier = stock_data_supplier\n",
    "        self.ohlc_dict = ohlc_dict\n",
    "        self.y_axis_margin = y_axis_margin\n",
    "        self.is_notebook = is_notebook\n",
    "        self.t = None\n",
    "        self.use_x_range = use_x_range\n",
    "        self.use_y_range = use_y_range\n",
    "        self.use_formatter = use_formatter\n",
    "        \n",
    "        # ymax, yminを整えるのに使う\n",
    "        self.last_ymax = self.y_axis_margin\n",
    "        self.last_ymin = - self.y_axis_margin\n",
    "        \n",
    "        self.freq_str = middle_sample_type_with_check(freq_str)\n",
    "\n",
    "        seconds = get_sec_from_freq(self.freq_str)\n",
    "\n",
    "        # ohlc_dictのチェック\n",
    "        if set(list(ohlc_dict.keys())) < set([\"Open\", \"High\", \"Low\", \"Close\"]):\n",
    "            raise ValueError(\"keys of ohlc_dict must have 'Open', 'High', 'Low', 'Close'.\")\n",
    "        elif set(list(ohlc_dict.keys())) > set([\"Open\", \"High\", \"Low\", \"Close\", \"Volume\"]):  #Volumeは別にあってもよい\n",
    "            raise ValueError(\"keys of ohlc_dict is too many.\")\n",
    "\n",
    "        # 最初のDataFrame\n",
    "        start_df = self.stock_data_supplier.initial_data(start_datetime=initial_start_datetime, end_datetime=initial_end_datetime)\n",
    "                \n",
    "        # 部分DataFrame(OHLC)を取得\n",
    "        self.ohlc_column_list = [self.ohlc_dict[\"Open\"], self.ohlc_dict[\"High\"], self.ohlc_dict[\"Low\"], self.ohlc_dict[\"Close\"]]\n",
    "        sub_start_df = start_df.loc[:,self.ohlc_column_list]\n",
    "        self.initial_length = len(sub_start_df.index)\n",
    "        self.source_length = self.initial_length * data_left_times\n",
    "        \n",
    "        # bokehの設定\n",
    "        initial_increase = sub_start_df[self.ohlc_dict[\"Close\"]] >= sub_start_df[self.ohlc_dict[\"Open\"]]  # ポジティブになるインデックス\n",
    "        initial_decrease = sub_start_df[self.ohlc_dict[\"Open\"]] > sub_start_df[self.ohlc_dict[\"Close\"]]  # ネガティブになるインデックス\n",
    "        width = seconds*1000  # 分足なので，60秒,1000は？　micro second単位\n",
    "        \n",
    "        sub_start_df = self._fill_nan_zero(sub_start_df)\n",
    "        \n",
    "        # 同じdatetmeを持つnaiveなdatetimeに変形\n",
    "        if sub_start_df.index.tzinfo is not None:  # awareな場合\n",
    "            sub_start_df.index = sub_start_df.index.tz_localize(None)\n",
    "        #print(\"sub_start_df:\",sub_start_df)\n",
    "        \n",
    "        self.source = ColumnDataSource(sub_start_df)\n",
    "        \n",
    "        increase_filter = BooleanFilter(initial_increase)\n",
    "        decrease_filter = BooleanFilter(initial_decrease)\n",
    "\n",
    "        self.view_increase = CDSView(source=self.source, filters=[increase_filter,])\n",
    "        self.view_decrease = CDSView(source=self.source, filters=[decrease_filter,])\n",
    "        \n",
    "        y_max, y_min = self._make_y_range(sub_start_df, margin=self.y_axis_margin)\n",
    "        \n",
    "        if figure is None:  # コンストラクタにbokehのfigureが与えられない場合\n",
    "            if not self.use_x_range or not self.use_y_range:\n",
    "                raise ValueError(\"set the use_x_range: True, use_y_range: True\")\n",
    "            source_df = self.source.to_df()\n",
    "            timestamp_series = source_df.loc[:,\"timestamp\"]\n",
    "            self.x_range = Range1d(timestamp_series.iloc[-self.initial_length], timestamp_series.iloc[-1])  # 最後からinitial_length分だけ表示させるためのx_range\n",
    "            #print(\"x_range:\",self.x_range.start, self.x_range.end)\n",
    "            self.y_range = Range1d(y_min, y_max)\n",
    "            self.dp = bokeh.plotting.figure(x_axis_type=\"datetime\", plot_width=1000, x_range=self.x_range, y_range=self.y_range)\n",
    "        else:\n",
    "            self.dp = figure\n",
    "            self.y_range = figure.y_range\n",
    "            self.x_range = figure.x_range\n",
    "        \n",
    "        self.dp.segment(x0=\"timestamp\", y0=self.ohlc_dict[\"Low\"], x1=\"timestamp\", y1=self.ohlc_dict[\"High\"],\n",
    "                        source=self.source, line_color=\"black\"\n",
    "                        )  # indexはインデックスの名前で指定されるらしい\n",
    "\n",
    "        self.dp.vbar(x=\"timestamp\",\n",
    "                     width=width,\n",
    "                     top=self.ohlc_dict[\"Open\"],\n",
    "                     bottom=self.ohlc_dict[\"Close\"],\n",
    "                     source=self.source, \n",
    "                     view=self.view_increase,\n",
    "                     fill_color=\"#4be639\",\n",
    "                     line_color=\"black\")  # positive\n",
    "\n",
    "        self.dp.vbar(x=\"timestamp\",\n",
    "                     width=width,\n",
    "                     top=self.ohlc_dict[\"Close\"],\n",
    "                     bottom=self.ohlc_dict[\"Open\"],\n",
    "                     source=self.source, \n",
    "                     view=self.view_decrease,\n",
    "                     fill_color=\"#F2583E\",\n",
    "                     line_color=\"black\")  # negative\n",
    "        \n",
    "        # formatter 機能しない\n",
    "        if self.use_formatter:\n",
    "            x_format = \"%m-%d-%H-%M\"\n",
    "            self.dp.xaxis.formatter = DatetimeTickFormatter(\n",
    "                minutes=[x_format],\n",
    "                hours=[x_format],\n",
    "                days=[x_format],\n",
    "                months=[x_format],\n",
    "                years=[x_format]\n",
    "            )\n",
    "            self.dp.xaxis.major_label_orientation = math.radians(45)\n",
    "\n",
    "            \n",
    "        self.temp_increase = initial_increase\n",
    "        self.temp_decrease = initial_decrease\n",
    "        \n",
    "        # データ供給用ジェネレータ\n",
    "        self.stock_data_supplier_gen = self.stock_data_supplier.iter_data(start_datetime=initial_end_datetime)\n",
    "    \n",
    "    def update(self):\n",
    "        \n",
    "        # ソースに加える長さ1のDataFrame\n",
    "        one_df = next(self.stock_data_supplier_gen)  # ジェネレーターから取り出す\n",
    "        one_df = self._fill_nan_zero(one_df)  # Noneをなくしておく(bokehが認識できるようにするため)\n",
    "                \n",
    "        # 同じdatetimeの値をもつnaiveなdatetimeを取得：\n",
    "        if len(one_df.index) > 0:\n",
    "            one_df.index = one_df.index.tz_localize(None)\n",
    "            \n",
    "        new_dict = {i:[one_df.loc[one_df.index[0],i]] for i in self.ohlc_column_list}\n",
    "\n",
    "        #print(\"new_dict:\",new_dict)\n",
    "        new_dict[\"timestamp\"] = np.array([one_df.index[0].to_datetime64()])\n",
    "\n",
    "        # filterの調整\n",
    "        open_valaue = one_df.loc[one_df.index[0], self.ohlc_dict[\"Open\"]]\n",
    "        close_value = one_df.loc[one_df.index[0], self.ohlc_dict[\"Close\"]]\n",
    "        \n",
    "        if open_valaue is not None and close_value is not None:\n",
    "            inc_add_bool_df = pd.Series([open_valaue<=close_value],index=one_df.index)  # ポジティブになるインデックス\n",
    "            dec_add_bool_df = pd.Series([open_valaue>close_value],index=one_df.index)  # ネガティブになるインデックス\n",
    "        else:\n",
    "            inc_add_bool_df = pd.Series([False],index=one_df.index)\n",
    "            dec_add_bool_df = pd.Series([False],index=one_df.index)\n",
    "\n",
    "        new_increase_booleans = pd.concat([self.temp_increase, inc_add_bool_df])  # 後ろに追加\n",
    "        if len(new_increase_booleans.index) > self.source_length:  # ソースの長さを超えた場合\n",
    "            new_increase_booleans = new_increase_booleans.drop(new_increase_booleans.index[0])  # 最初を削除\n",
    "        self.temp_increase = new_increase_booleans\n",
    "\n",
    "        new_decrease_booleans = pd.concat([self.temp_decrease, dec_add_bool_df])  # 後ろに追加\n",
    "        if len(new_decrease_booleans.index) > self.source_length:  # ソースの長さを超えた場合\n",
    "            new_decrease_booleans = new_decrease_booleans.drop(new_decrease_booleans.index[0])  # 最初を削除\n",
    "        self.temp_decrease = new_decrease_booleans\n",
    "\n",
    "        # sourceの変更\n",
    "        self.source.stream(new_data=new_dict, rollover=self.source_length)\n",
    "        \n",
    "        # filterの変更\n",
    "        self.view_increase.filters = [BooleanFilter(self.temp_increase),]\n",
    "        self.view_decrease.filters = [BooleanFilter(self.temp_decrease),]\n",
    "        \n",
    "        \n",
    "        # 範囲選択\n",
    "        source_df = self.source.to_df()\n",
    "        # yの範囲\n",
    "        if self.use_y_range:\n",
    "            y_max, y_min = self._make_y_range(source_df, self.y_axis_margin)\n",
    "            self.y_range.start = y_min\n",
    "            self.y_range.end = y_max\n",
    "        #print(\"y_range:\", self.y_range.start, self.y_range.end)\n",
    "        # xの範囲\n",
    "        if self.use_x_range:\n",
    "            timestamp_series = source_df.loc[:,\"timestamp\"]\n",
    "            self.x_range.start = timestamp_series.iloc[-self.initial_length]\n",
    "            self.x_range.end = timestamp_series.iloc[-1]\n",
    "        #print(\"x_range:\",self.dp.x_range.start, self.dp.x_range.end)\n",
    "        \n",
    "        if self.is_notebook:\n",
    "            if self.t is None:  # tがセットされていない場合\n",
    "                raise ValueError(\"self.t is not setted.\")\n",
    "            push_notebook(handle=self.t)\n",
    "        \n",
    "    def _make_y_range(self, df, margin=50):\n",
    "        new_df = df.replace(0, None)  # Noneに変更してhigh, lowを計算しやすくこれでも0になることがあるらしい．\n",
    "     \n",
    "        y_max = new_df.loc[:,self.ohlc_dict[\"High\"]].max(axis=0) + margin\n",
    "        y_min = new_df.loc[:,self.ohlc_dict[\"Low\"]].min(axis=0) - margin\n",
    "        \n",
    "        if y_max == margin:  # Highが0の場合\n",
    "            y_max = self.last_ymax\n",
    "        else:\n",
    "            self.last_ymax = y_max\n",
    "        \n",
    "        if y_min == -margin:  # Lowが0の場合\n",
    "            y_min = self.last_ymin\n",
    "        else:\n",
    "            self.last_ymin = y_min\n",
    "        \n",
    "        return y_max, y_min\n",
    "        \n",
    "    def _fill_nan_zero(self, df):\n",
    "        return_df = df.fillna(0)\n",
    "        return return_df\n",
    "    \n",
    "    def set_t(self, t):\n",
    "        self.t = t"
   ]
  },
  {
   "cell_type": "code",
   "execution_count": 89,
   "metadata": {
    "ExecuteTime": {
     "end_time": "2020-11-16T13:15:58.388041Z",
     "start_time": "2020-11-16T13:15:58.153632Z"
    }
   },
   "outputs": [],
   "source": [
    "stock_data_supplier = StockDataSupplier(stock_df, freq_str=\"5T\")\n",
    "\n",
    "\n",
    "bokeh_candle_stick = BokehCandleStick(stock_data_supplier,  \n",
    "                                      ohlc_dict, \n",
    "                                      initial_start_datetime=start_time,\n",
    "                                      initial_end_datetime=end_time,\n",
    "                                      freq_str=\"5T\",\n",
    "                                      y_axis_margin=10,\n",
    "                                      data_left_times=5,\n",
    "                                      use_formatter=True,\n",
    "                                      is_notebook=True\n",
    "                                      )"
   ]
  },
  {
   "cell_type": "code",
   "execution_count": 90,
   "metadata": {
    "ExecuteTime": {
     "end_time": "2020-11-16T13:16:08.234701Z",
     "start_time": "2020-11-16T13:15:59.578814Z"
    },
    "scrolled": false
   },
   "outputs": [
    {
     "data": {
      "text/html": [
       "\n",
       "\n",
       "\n",
       "\n",
       "\n",
       "\n",
       "  <div class=\"bk-root\" id=\"37e3d0d0-ffc7-43d7-a87e-1034c103753a\" data-root-id=\"11066\"></div>\n"
      ]
     },
     "metadata": {},
     "output_type": "display_data"
    },
    {
     "data": {
      "application/javascript": [
       "(function(root) {\n",
       "  function embed_document(root) {\n",
       "    \n",
       "  var docs_json = {\"20c1d462-4dc3-4466-b2de-474e7aeec4a3\":{\"roots\":{\"references\":[{\"attributes\":{\"below\":[{\"id\":\"11073\"}],\"center\":[{\"id\":\"11076\"},{\"id\":\"11080\"}],\"left\":[{\"id\":\"11077\"}],\"plot_width\":1000,\"renderers\":[{\"id\":\"11098\"},{\"id\":\"11103\"},{\"id\":\"11107\"}],\"title\":{\"id\":\"11296\"},\"toolbar\":{\"id\":\"11088\"},\"x_range\":{\"id\":\"11064\"},\"x_scale\":{\"id\":\"11069\"},\"y_range\":{\"id\":\"11065\"},\"y_scale\":{\"id\":\"11071\"}},\"id\":\"11066\",\"subtype\":\"Figure\",\"type\":\"Plot\"},{\"attributes\":{\"booleans\":[true,true,false,true,false,false,false,true,false,true,true,false,false,true,true,true,true,false,true,true,false,false,false,true,false,false,true,true,true,false]},\"id\":\"11060\",\"type\":\"BooleanFilter\"},{\"attributes\":{},\"id\":\"11069\",\"type\":\"LinearScale\"},{\"attributes\":{\"text\":\"\"},\"id\":\"11296\",\"type\":\"Title\"},{\"attributes\":{\"axis\":{\"id\":\"11073\"},\"ticker\":null},\"id\":\"11076\",\"type\":\"Grid\"},{\"attributes\":{\"active_drag\":\"auto\",\"active_inspect\":\"auto\",\"active_multi\":null,\"active_scroll\":\"auto\",\"active_tap\":\"auto\",\"tools\":[{\"id\":\"11081\"},{\"id\":\"11082\"},{\"id\":\"11083\"},{\"id\":\"11084\"},{\"id\":\"11085\"},{\"id\":\"11086\"}]},\"id\":\"11088\",\"type\":\"Toolbar\"},{\"attributes\":{\"data_source\":{\"id\":\"11059\"},\"glyph\":{\"id\":\"11105\"},\"hover_glyph\":null,\"muted_glyph\":null,\"nonselection_glyph\":{\"id\":\"11106\"},\"selection_glyph\":null,\"view\":{\"id\":\"11063\"}},\"id\":\"11107\",\"type\":\"GlyphRenderer\"},{\"attributes\":{},\"id\":\"11086\",\"type\":\"HelpTool\"},{\"attributes\":{\"base\":24,\"mantissas\":[1,2,4,6,8,12],\"max_interval\":43200000.0,\"min_interval\":3600000.0,\"num_minor_ticks\":0},\"id\":\"11305\",\"type\":\"AdaptiveTicker\"},{\"attributes\":{\"overlay\":{\"id\":\"11087\"}},\"id\":\"11083\",\"type\":\"BoxZoomTool\"},{\"attributes\":{\"end\":1135.0,\"start\":1097.0},\"id\":\"11065\",\"type\":\"Range1d\"},{\"attributes\":{\"months\":[0,1,2,3,4,5,6,7,8,9,10,11]},\"id\":\"11310\",\"type\":\"MonthsTicker\"},{\"attributes\":{\"data\":{\"Close_4755\":{\"__ndarray__\":\"AAAAAACEkUAAAAAAAIiRQAAAAAAAeJFAAAAAAAB8kUAAAAAAAHiRQAAAAAAAbJFAAAAAAABkkUAAAAAAAGSRQAAAAAAAYJFAAAAAAABokUAAAAAAAGyRQAAAAAAAaJFAAAAAAABUkUAAAAAAAGiRQAAAAAAAaJFAAAAAAABskUAAAAAAAGyRQAAAAAAAZJFAAAAAAABokUAAAAAAAGSRQAAAAAAAYJFAAAAAAABckUAAAAAAAFSRQAAAAAAAWJFAAAAAAABYkUAAAAAAAFiRQAAAAAAAWJFAAAAAAABckUAAAAAAAFiRQAAAAAAAUJFA\",\"dtype\":\"float64\",\"order\":\"little\",\"shape\":[30]},\"High_4755\":{\"__ndarray__\":\"AAAAAACUkUAAAAAAAIyRQAAAAAAAjJFAAAAAAACAkUAAAAAAAICRQAAAAAAAdJFAAAAAAAB0kUAAAAAAAGiRQAAAAAAAaJFAAAAAAABskUAAAAAAAGyRQAAAAAAAcJFAAAAAAABokUAAAAAAAGyRQAAAAAAAbJFAAAAAAABskUAAAAAAAHSRQAAAAAAAaJFAAAAAAABskUAAAAAAAGSRQAAAAAAAaJFAAAAAAABgkUAAAAAAAGCRQAAAAAAAYJFAAAAAAABgkUAAAAAAAFyRQAAAAAAAXJFAAAAAAABckUAAAAAAAFyRQAAAAAAAWJFA\",\"dtype\":\"float64\",\"order\":\"little\",\"shape\":[30]},\"Low_4755\":{\"__ndarray__\":\"AAAAAAB0kUAAAAAAAICRQAAAAAAAdJFAAAAAAAB0kUAAAAAAAHSRQAAAAAAAZJFAAAAAAABgkUAAAAAAAGCRQAAAAAAAYJFAAAAAAABgkUAAAAAAAGSRQAAAAAAAYJFAAAAAAABMkUAAAAAAAFSRQAAAAAAAZJFAAAAAAABokUAAAAAAAGiRQAAAAAAAZJFAAAAAAABkkUAAAAAAAGCRQAAAAAAAXJFAAAAAAABUkUAAAAAAAFSRQAAAAAAAVJFAAAAAAABUkUAAAAAAAFSRQAAAAAAAWJFAAAAAAABUkUAAAAAAAEyRQAAAAAAATJFA\",\"dtype\":\"float64\",\"order\":\"little\",\"shape\":[30]},\"Open_4755\":{\"__ndarray__\":\"AAAAAAB4kUAAAAAAAISRQAAAAAAAiJFAAAAAAAB4kUAAAAAAAHyRQAAAAAAAdJFAAAAAAABokUAAAAAAAGSRQAAAAAAAZJFAAAAAAABgkUAAAAAAAGiRQAAAAAAAbJFAAAAAAABokUAAAAAAAFSRQAAAAAAAaJFAAAAAAABokUAAAAAAAGiRQAAAAAAAaJFAAAAAAABokUAAAAAAAGSRQAAAAAAAZJFAAAAAAABgkUAAAAAAAFyRQAAAAAAAVJFAAAAAAABgkUAAAAAAAFyRQAAAAAAAWJFAAAAAAABYkUAAAAAAAFiRQAAAAAAAWJFA\",\"dtype\":\"float64\",\"order\":\"little\",\"shape\":[30]},\"timestamp\":{\"__ndarray__\":\"AADUiBBdd0IAABLSEF13QgAAUBsRXXdCAACOZBFdd0IAAMytEV13QgAACvcRXXdCAABIQBJdd0IAAIaJEl13QgAAxNISXXdCAAACHBNdd0IAAEBlE113QgAAfq4TXXdCAAC89xNdd0IAAPpAFF13QgAAOIoUXXdCAAB20xRdd0IAALQcFV13QgAA8mUVXXdCAAAwrxVdd0IAAG74FV13QgAArEEWXXdCAADqihZdd0IAACjUFl13QgAAZh0XXXdCAACkZhddd0IAAOKvF113QgAAIPkXXXdCAABeQhhdd0IAAJyLGF13QgAA2tQYXXdC\",\"dtype\":\"float64\",\"order\":\"little\",\"shape\":[30]}},\"selected\":{\"id\":\"11301\"},\"selection_policy\":{\"id\":\"11302\"}},\"id\":\"11059\",\"type\":\"ColumnDataSource\"},{\"attributes\":{},\"id\":\"11314\",\"type\":\"YearsTicker\"},{\"attributes\":{\"base\":60,\"mantissas\":[1,2,5,10,15,20,30],\"max_interval\":1800000.0,\"min_interval\":1000.0,\"num_minor_ticks\":0},\"id\":\"11304\",\"type\":\"AdaptiveTicker\"},{\"attributes\":{\"end\":1605538500000.0,\"start\":1605529800000.0},\"id\":\"11064\",\"type\":\"Range1d\"},{\"attributes\":{\"x0\":{\"field\":\"timestamp\"},\"x1\":{\"field\":\"timestamp\"},\"y0\":{\"field\":\"Low_4755\"},\"y1\":{\"field\":\"High_4755\"}},\"id\":\"11096\",\"type\":\"Segment\"},{\"attributes\":{\"filters\":[{\"id\":\"11060\"}],\"source\":{\"id\":\"11059\"}},\"id\":\"11062\",\"type\":\"CDSView\"},{\"attributes\":{\"months\":[0,2,4,6,8,10]},\"id\":\"11311\",\"type\":\"MonthsTicker\"},{\"attributes\":{\"line_alpha\":{\"value\":0.1},\"x0\":{\"field\":\"timestamp\"},\"x1\":{\"field\":\"timestamp\"},\"y0\":{\"field\":\"Low_4755\"},\"y1\":{\"field\":\"High_4755\"}},\"id\":\"11097\",\"type\":\"Segment\"},{\"attributes\":{\"months\":[0,6]},\"id\":\"11313\",\"type\":\"MonthsTicker\"},{\"attributes\":{\"months\":[0,4,8]},\"id\":\"11312\",\"type\":\"MonthsTicker\"},{\"attributes\":{\"data_source\":{\"id\":\"11059\"},\"glyph\":{\"id\":\"11096\"},\"hover_glyph\":null,\"muted_glyph\":null,\"nonselection_glyph\":{\"id\":\"11097\"},\"selection_glyph\":null,\"view\":{\"id\":\"11099\"}},\"id\":\"11098\",\"type\":\"GlyphRenderer\"},{\"attributes\":{\"days\":[\"%m-%d-%H-%M\"],\"hours\":[\"%m-%d-%H-%M\"],\"minutes\":[\"%m-%d-%H-%M\"],\"months\":[\"%m-%d-%H-%M\"],\"years\":[\"%m-%d-%H-%M\"]},\"id\":\"11108\",\"type\":\"DatetimeTickFormatter\"},{\"attributes\":{\"booleans\":[false,false,true,false,true,true,true,false,true,false,false,true,true,false,false,false,false,true,false,false,true,true,true,false,true,true,false,false,false,true]},\"id\":\"11061\",\"type\":\"BooleanFilter\"},{\"attributes\":{},\"id\":\"11082\",\"type\":\"WheelZoomTool\"},{\"attributes\":{\"bottom\":{\"field\":\"Close_4755\"},\"fill_color\":{\"value\":\"#4be639\"},\"top\":{\"field\":\"Open_4755\"},\"width\":{\"value\":300000.0},\"x\":{\"field\":\"timestamp\"}},\"id\":\"11101\",\"type\":\"VBar\"},{\"attributes\":{},\"id\":\"11301\",\"type\":\"Selection\"},{\"attributes\":{\"days\":[1,4,7,10,13,16,19,22,25,28]},\"id\":\"11307\",\"type\":\"DaysTicker\"},{\"attributes\":{\"num_minor_ticks\":5,\"tickers\":[{\"id\":\"11303\"},{\"id\":\"11304\"},{\"id\":\"11305\"},{\"id\":\"11306\"},{\"id\":\"11307\"},{\"id\":\"11308\"},{\"id\":\"11309\"},{\"id\":\"11310\"},{\"id\":\"11311\"},{\"id\":\"11312\"},{\"id\":\"11313\"},{\"id\":\"11314\"}]},\"id\":\"11074\",\"type\":\"DatetimeTicker\"},{\"attributes\":{\"mantissas\":[1,2,5],\"max_interval\":500.0,\"num_minor_ticks\":0},\"id\":\"11303\",\"type\":\"AdaptiveTicker\"},{\"attributes\":{},\"id\":\"11081\",\"type\":\"PanTool\"},{\"attributes\":{\"source\":{\"id\":\"11059\"}},\"id\":\"11099\",\"type\":\"CDSView\"},{\"attributes\":{\"bottom\":{\"field\":\"Open_4755\"},\"fill_alpha\":{\"value\":0.1},\"fill_color\":{\"value\":\"#F2583E\"},\"line_alpha\":{\"value\":0.1},\"top\":{\"field\":\"Close_4755\"},\"width\":{\"value\":300000.0},\"x\":{\"field\":\"timestamp\"}},\"id\":\"11106\",\"type\":\"VBar\"},{\"attributes\":{\"bottom\":{\"field\":\"Close_4755\"},\"fill_alpha\":{\"value\":0.1},\"fill_color\":{\"value\":\"#4be639\"},\"line_alpha\":{\"value\":0.1},\"top\":{\"field\":\"Open_4755\"},\"width\":{\"value\":300000.0},\"x\":{\"field\":\"timestamp\"}},\"id\":\"11102\",\"type\":\"VBar\"},{\"attributes\":{\"data_source\":{\"id\":\"11059\"},\"glyph\":{\"id\":\"11101\"},\"hover_glyph\":null,\"muted_glyph\":null,\"nonselection_glyph\":{\"id\":\"11102\"},\"selection_glyph\":null,\"view\":{\"id\":\"11062\"}},\"id\":\"11103\",\"type\":\"GlyphRenderer\"},{\"attributes\":{},\"id\":\"11084\",\"type\":\"SaveTool\"},{\"attributes\":{\"days\":[1,8,15,22]},\"id\":\"11308\",\"type\":\"DaysTicker\"},{\"attributes\":{},\"id\":\"11302\",\"type\":\"UnionRenderers\"},{\"attributes\":{\"days\":[1,2,3,4,5,6,7,8,9,10,11,12,13,14,15,16,17,18,19,20,21,22,23,24,25,26,27,28,29,30,31]},\"id\":\"11306\",\"type\":\"DaysTicker\"},{\"attributes\":{\"days\":[1,15]},\"id\":\"11309\",\"type\":\"DaysTicker\"},{\"attributes\":{},\"id\":\"11085\",\"type\":\"ResetTool\"},{\"attributes\":{\"filters\":[{\"id\":\"11061\"}],\"source\":{\"id\":\"11059\"}},\"id\":\"11063\",\"type\":\"CDSView\"},{\"attributes\":{},\"id\":\"11299\",\"type\":\"BasicTickFormatter\"},{\"attributes\":{\"bottom_units\":\"screen\",\"fill_alpha\":0.5,\"fill_color\":\"lightgrey\",\"left_units\":\"screen\",\"level\":\"overlay\",\"line_alpha\":1.0,\"line_color\":\"black\",\"line_dash\":[4,4],\"line_width\":2,\"right_units\":\"screen\",\"top_units\":\"screen\"},\"id\":\"11087\",\"type\":\"BoxAnnotation\"},{\"attributes\":{\"axis\":{\"id\":\"11077\"},\"dimension\":1,\"ticker\":null},\"id\":\"11080\",\"type\":\"Grid\"},{\"attributes\":{\"formatter\":{\"id\":\"11299\"},\"ticker\":{\"id\":\"11078\"}},\"id\":\"11077\",\"type\":\"LinearAxis\"},{\"attributes\":{},\"id\":\"11071\",\"type\":\"LinearScale\"},{\"attributes\":{\"bottom\":{\"field\":\"Open_4755\"},\"fill_color\":{\"value\":\"#F2583E\"},\"top\":{\"field\":\"Close_4755\"},\"width\":{\"value\":300000.0},\"x\":{\"field\":\"timestamp\"}},\"id\":\"11105\",\"type\":\"VBar\"},{\"attributes\":{},\"id\":\"11078\",\"type\":\"BasicTicker\"},{\"attributes\":{\"formatter\":{\"id\":\"11108\"},\"major_label_orientation\":0.7853981633974483,\"ticker\":{\"id\":\"11074\"}},\"id\":\"11073\",\"type\":\"DatetimeAxis\"}],\"root_ids\":[\"11066\"]},\"title\":\"Bokeh Application\",\"version\":\"2.2.3\"}};\n",
       "  var render_items = [{\"docid\":\"20c1d462-4dc3-4466-b2de-474e7aeec4a3\",\"notebook_comms_target\":\"11315\",\"root_ids\":[\"11066\"],\"roots\":{\"11066\":\"37e3d0d0-ffc7-43d7-a87e-1034c103753a\"}}];\n",
       "  root.Bokeh.embed.embed_items_notebook(docs_json, render_items);\n",
       "\n",
       "  }\n",
       "  if (root.Bokeh !== undefined) {\n",
       "    embed_document(root);\n",
       "  } else {\n",
       "    var attempts = 0;\n",
       "    var timer = setInterval(function(root) {\n",
       "      if (root.Bokeh !== undefined) {\n",
       "        clearInterval(timer);\n",
       "        embed_document(root);\n",
       "      } else {\n",
       "        attempts++;\n",
       "        if (attempts > 100) {\n",
       "          clearInterval(timer);\n",
       "          console.log(\"Bokeh: ERROR: Unable to run BokehJS code because BokehJS library is missing\");\n",
       "        }\n",
       "      }\n",
       "    }, 10, root)\n",
       "  }\n",
       "})(window);"
      ],
      "application/vnd.bokehjs_exec.v0+json": ""
     },
     "metadata": {
      "application/vnd.bokehjs_exec.v0+json": {
       "id": "11066"
      }
     },
     "output_type": "display_data"
    },
    {
     "ename": "KeyboardInterrupt",
     "evalue": "",
     "output_type": "error",
     "traceback": [
      "\u001b[1;31m---------------------------------------------------------------------------\u001b[0m",
      "\u001b[1;31mKeyboardInterrupt\u001b[0m                         Traceback (most recent call last)",
      "\u001b[1;32m<ipython-input-90-be3e859f5fa4>\u001b[0m in \u001b[0;36m<module>\u001b[1;34m\u001b[0m\n\u001b[0;32m      3\u001b[0m \u001b[1;32mfor\u001b[0m \u001b[0mi\u001b[0m \u001b[1;32min\u001b[0m \u001b[0mrange\u001b[0m\u001b[1;33m(\u001b[0m\u001b[1;36m1000\u001b[0m\u001b[1;33m)\u001b[0m\u001b[1;33m:\u001b[0m\u001b[1;33m\u001b[0m\u001b[1;33m\u001b[0m\u001b[0m\n\u001b[0;32m      4\u001b[0m     \u001b[0mtime\u001b[0m\u001b[1;33m.\u001b[0m\u001b[0msleep\u001b[0m\u001b[1;33m(\u001b[0m\u001b[1;36m1\u001b[0m\u001b[1;33m)\u001b[0m\u001b[1;33m\u001b[0m\u001b[1;33m\u001b[0m\u001b[0m\n\u001b[1;32m----> 5\u001b[1;33m     \u001b[0mbokeh_candle_stick\u001b[0m\u001b[1;33m.\u001b[0m\u001b[0mupdate\u001b[0m\u001b[1;33m(\u001b[0m\u001b[1;33m)\u001b[0m\u001b[1;33m\u001b[0m\u001b[1;33m\u001b[0m\u001b[0m\n\u001b[0m",
      "\u001b[1;32m<ipython-input-88-39f47a3f42fb>\u001b[0m in \u001b[0;36mupdate\u001b[1;34m(self)\u001b[0m\n\u001b[0;32m    182\u001b[0m         \u001b[1;31m# filterの変更\u001b[0m\u001b[1;33m\u001b[0m\u001b[1;33m\u001b[0m\u001b[1;33m\u001b[0m\u001b[0m\n\u001b[0;32m    183\u001b[0m         \u001b[0mself\u001b[0m\u001b[1;33m.\u001b[0m\u001b[0mview_increase\u001b[0m\u001b[1;33m.\u001b[0m\u001b[0mfilters\u001b[0m \u001b[1;33m=\u001b[0m \u001b[1;33m[\u001b[0m\u001b[0mBooleanFilter\u001b[0m\u001b[1;33m(\u001b[0m\u001b[0mself\u001b[0m\u001b[1;33m.\u001b[0m\u001b[0mtemp_increase\u001b[0m\u001b[1;33m)\u001b[0m\u001b[1;33m,\u001b[0m\u001b[1;33m]\u001b[0m\u001b[1;33m\u001b[0m\u001b[1;33m\u001b[0m\u001b[0m\n\u001b[1;32m--> 184\u001b[1;33m         \u001b[0mself\u001b[0m\u001b[1;33m.\u001b[0m\u001b[0mview_decrease\u001b[0m\u001b[1;33m.\u001b[0m\u001b[0mfilters\u001b[0m \u001b[1;33m=\u001b[0m \u001b[1;33m[\u001b[0m\u001b[0mBooleanFilter\u001b[0m\u001b[1;33m(\u001b[0m\u001b[0mself\u001b[0m\u001b[1;33m.\u001b[0m\u001b[0mtemp_decrease\u001b[0m\u001b[1;33m)\u001b[0m\u001b[1;33m,\u001b[0m\u001b[1;33m]\u001b[0m\u001b[1;33m\u001b[0m\u001b[1;33m\u001b[0m\u001b[0m\n\u001b[0m\u001b[0;32m    185\u001b[0m \u001b[1;33m\u001b[0m\u001b[0m\n\u001b[0;32m    186\u001b[0m \u001b[1;33m\u001b[0m\u001b[0m\n",
      "\u001b[1;32m~\\Anaconda3\\envs\\torch_py37\\lib\\site-packages\\bokeh\\core\\has_props.py\u001b[0m in \u001b[0;36m__setattr__\u001b[1;34m(self, name, value)\u001b[0m\n\u001b[0;32m    276\u001b[0m \u001b[1;33m\u001b[0m\u001b[0m\n\u001b[0;32m    277\u001b[0m         \u001b[1;32mif\u001b[0m \u001b[0mname\u001b[0m \u001b[1;32min\u001b[0m \u001b[0mprops\u001b[0m \u001b[1;32mor\u001b[0m \u001b[1;33m(\u001b[0m\u001b[0mdescriptor\u001b[0m \u001b[1;32mis\u001b[0m \u001b[1;32mnot\u001b[0m \u001b[1;32mNone\u001b[0m \u001b[1;32mand\u001b[0m \u001b[0mdescriptor\u001b[0m\u001b[1;33m.\u001b[0m\u001b[0mfset\u001b[0m \u001b[1;32mis\u001b[0m \u001b[1;32mnot\u001b[0m \u001b[1;32mNone\u001b[0m\u001b[1;33m)\u001b[0m\u001b[1;33m:\u001b[0m\u001b[1;33m\u001b[0m\u001b[1;33m\u001b[0m\u001b[0m\n\u001b[1;32m--> 278\u001b[1;33m             \u001b[0msuper\u001b[0m\u001b[1;33m(\u001b[0m\u001b[1;33m)\u001b[0m\u001b[1;33m.\u001b[0m\u001b[0m__setattr__\u001b[0m\u001b[1;33m(\u001b[0m\u001b[0mname\u001b[0m\u001b[1;33m,\u001b[0m \u001b[0mvalue\u001b[0m\u001b[1;33m)\u001b[0m\u001b[1;33m\u001b[0m\u001b[1;33m\u001b[0m\u001b[0m\n\u001b[0m\u001b[0;32m    279\u001b[0m         \u001b[1;32melse\u001b[0m\u001b[1;33m:\u001b[0m\u001b[1;33m\u001b[0m\u001b[1;33m\u001b[0m\u001b[0m\n\u001b[0;32m    280\u001b[0m             \u001b[0mmatches\u001b[0m\u001b[1;33m,\u001b[0m \u001b[0mtext\u001b[0m \u001b[1;33m=\u001b[0m \u001b[0mdifflib\u001b[0m\u001b[1;33m.\u001b[0m\u001b[0mget_close_matches\u001b[0m\u001b[1;33m(\u001b[0m\u001b[0mname\u001b[0m\u001b[1;33m.\u001b[0m\u001b[0mlower\u001b[0m\u001b[1;33m(\u001b[0m\u001b[1;33m)\u001b[0m\u001b[1;33m,\u001b[0m \u001b[0mprops\u001b[0m\u001b[1;33m)\u001b[0m\u001b[1;33m,\u001b[0m \u001b[1;34m\"similar\"\u001b[0m\u001b[1;33m\u001b[0m\u001b[1;33m\u001b[0m\u001b[0m\n",
      "\u001b[1;32m~\\Anaconda3\\envs\\torch_py37\\lib\\site-packages\\bokeh\\core\\property\\descriptors.py\u001b[0m in \u001b[0;36m__set__\u001b[1;34m(self, obj, value, setter)\u001b[0m\n\u001b[0;32m    537\u001b[0m             \u001b[1;32mraise\u001b[0m \u001b[0mRuntimeError\u001b[0m\u001b[1;33m(\u001b[0m\u001b[1;34m\"%s.%s is a readonly property\"\u001b[0m \u001b[1;33m%\u001b[0m \u001b[1;33m(\u001b[0m\u001b[0mobj\u001b[0m\u001b[1;33m.\u001b[0m\u001b[0m__class__\u001b[0m\u001b[1;33m.\u001b[0m\u001b[0m__name__\u001b[0m\u001b[1;33m,\u001b[0m \u001b[0mself\u001b[0m\u001b[1;33m.\u001b[0m\u001b[0mname\u001b[0m\u001b[1;33m)\u001b[0m\u001b[1;33m)\u001b[0m\u001b[1;33m\u001b[0m\u001b[1;33m\u001b[0m\u001b[0m\n\u001b[0;32m    538\u001b[0m \u001b[1;33m\u001b[0m\u001b[0m\n\u001b[1;32m--> 539\u001b[1;33m         \u001b[0mself\u001b[0m\u001b[1;33m.\u001b[0m\u001b[0m_internal_set\u001b[0m\u001b[1;33m(\u001b[0m\u001b[0mobj\u001b[0m\u001b[1;33m,\u001b[0m \u001b[0mvalue\u001b[0m\u001b[1;33m,\u001b[0m \u001b[0msetter\u001b[0m\u001b[1;33m=\u001b[0m\u001b[0msetter\u001b[0m\u001b[1;33m)\u001b[0m\u001b[1;33m\u001b[0m\u001b[1;33m\u001b[0m\u001b[0m\n\u001b[0m\u001b[0;32m    540\u001b[0m \u001b[1;33m\u001b[0m\u001b[0m\n\u001b[0;32m    541\u001b[0m     \u001b[1;32mdef\u001b[0m \u001b[0m__delete__\u001b[0m\u001b[1;33m(\u001b[0m\u001b[0mself\u001b[0m\u001b[1;33m,\u001b[0m \u001b[0mobj\u001b[0m\u001b[1;33m)\u001b[0m\u001b[1;33m:\u001b[0m\u001b[1;33m\u001b[0m\u001b[1;33m\u001b[0m\u001b[0m\n",
      "\u001b[1;32m~\\Anaconda3\\envs\\torch_py37\\lib\\site-packages\\bokeh\\core\\property\\descriptors.py\u001b[0m in \u001b[0;36m_internal_set\u001b[1;34m(self, obj, value, hint, setter)\u001b[0m\n\u001b[0;32m    761\u001b[0m \u001b[1;33m\u001b[0m\u001b[0m\n\u001b[0;32m    762\u001b[0m         \u001b[0mold\u001b[0m \u001b[1;33m=\u001b[0m \u001b[0mself\u001b[0m\u001b[1;33m.\u001b[0m\u001b[0m__get__\u001b[0m\u001b[1;33m(\u001b[0m\u001b[0mobj\u001b[0m\u001b[1;33m,\u001b[0m \u001b[0mobj\u001b[0m\u001b[1;33m.\u001b[0m\u001b[0m__class__\u001b[0m\u001b[1;33m)\u001b[0m\u001b[1;33m\u001b[0m\u001b[1;33m\u001b[0m\u001b[0m\n\u001b[1;32m--> 763\u001b[1;33m         \u001b[0mself\u001b[0m\u001b[1;33m.\u001b[0m\u001b[0m_real_set\u001b[0m\u001b[1;33m(\u001b[0m\u001b[0mobj\u001b[0m\u001b[1;33m,\u001b[0m \u001b[0mold\u001b[0m\u001b[1;33m,\u001b[0m \u001b[0mvalue\u001b[0m\u001b[1;33m,\u001b[0m \u001b[0mhint\u001b[0m\u001b[1;33m=\u001b[0m\u001b[0mhint\u001b[0m\u001b[1;33m,\u001b[0m \u001b[0msetter\u001b[0m\u001b[1;33m=\u001b[0m\u001b[0msetter\u001b[0m\u001b[1;33m)\u001b[0m\u001b[1;33m\u001b[0m\u001b[1;33m\u001b[0m\u001b[0m\n\u001b[0m\u001b[0;32m    764\u001b[0m \u001b[1;33m\u001b[0m\u001b[0m\n\u001b[0;32m    765\u001b[0m     \u001b[1;32mdef\u001b[0m \u001b[0m_real_set\u001b[0m\u001b[1;33m(\u001b[0m\u001b[0mself\u001b[0m\u001b[1;33m,\u001b[0m \u001b[0mobj\u001b[0m\u001b[1;33m,\u001b[0m \u001b[0mold\u001b[0m\u001b[1;33m,\u001b[0m \u001b[0mvalue\u001b[0m\u001b[1;33m,\u001b[0m \u001b[0mhint\u001b[0m\u001b[1;33m=\u001b[0m\u001b[1;32mNone\u001b[0m\u001b[1;33m,\u001b[0m \u001b[0msetter\u001b[0m\u001b[1;33m=\u001b[0m\u001b[1;32mNone\u001b[0m\u001b[1;33m)\u001b[0m\u001b[1;33m:\u001b[0m\u001b[1;33m\u001b[0m\u001b[1;33m\u001b[0m\u001b[0m\n",
      "\u001b[1;32m~\\Anaconda3\\envs\\torch_py37\\lib\\site-packages\\bokeh\\core\\property\\descriptors.py\u001b[0m in \u001b[0;36m_real_set\u001b[1;34m(self, obj, old, value, hint, setter)\u001b[0m\n\u001b[0;32m    830\u001b[0m \u001b[1;33m\u001b[0m\u001b[0m\n\u001b[0;32m    831\u001b[0m         \u001b[1;31m# for notification purposes, \"old\" should be the logical old\u001b[0m\u001b[1;33m\u001b[0m\u001b[1;33m\u001b[0m\u001b[1;33m\u001b[0m\u001b[0m\n\u001b[1;32m--> 832\u001b[1;33m         \u001b[0mself\u001b[0m\u001b[1;33m.\u001b[0m\u001b[0m_trigger\u001b[0m\u001b[1;33m(\u001b[0m\u001b[0mobj\u001b[0m\u001b[1;33m,\u001b[0m \u001b[0mold\u001b[0m\u001b[1;33m,\u001b[0m \u001b[0mvalue\u001b[0m\u001b[1;33m,\u001b[0m \u001b[0mhint\u001b[0m\u001b[1;33m=\u001b[0m\u001b[0mhint\u001b[0m\u001b[1;33m,\u001b[0m \u001b[0msetter\u001b[0m\u001b[1;33m=\u001b[0m\u001b[0msetter\u001b[0m\u001b[1;33m)\u001b[0m\u001b[1;33m\u001b[0m\u001b[1;33m\u001b[0m\u001b[0m\n\u001b[0m\u001b[0;32m    833\u001b[0m \u001b[1;33m\u001b[0m\u001b[0m\n\u001b[0;32m    834\u001b[0m     \u001b[1;31m# called when a container is mutated \"behind our back\" and\u001b[0m\u001b[1;33m\u001b[0m\u001b[1;33m\u001b[0m\u001b[1;33m\u001b[0m\u001b[0m\n",
      "\u001b[1;32m~\\Anaconda3\\envs\\torch_py37\\lib\\site-packages\\bokeh\\core\\property\\descriptors.py\u001b[0m in \u001b[0;36m_trigger\u001b[1;34m(self, obj, old, value, hint, setter)\u001b[0m\n\u001b[0;32m    907\u001b[0m         '''\n\u001b[0;32m    908\u001b[0m         \u001b[1;32mif\u001b[0m \u001b[0mhasattr\u001b[0m\u001b[1;33m(\u001b[0m\u001b[0mobj\u001b[0m\u001b[1;33m,\u001b[0m \u001b[1;34m'trigger'\u001b[0m\u001b[1;33m)\u001b[0m\u001b[1;33m:\u001b[0m\u001b[1;33m\u001b[0m\u001b[1;33m\u001b[0m\u001b[0m\n\u001b[1;32m--> 909\u001b[1;33m             \u001b[0mobj\u001b[0m\u001b[1;33m.\u001b[0m\u001b[0mtrigger\u001b[0m\u001b[1;33m(\u001b[0m\u001b[0mself\u001b[0m\u001b[1;33m.\u001b[0m\u001b[0mname\u001b[0m\u001b[1;33m,\u001b[0m \u001b[0mold\u001b[0m\u001b[1;33m,\u001b[0m \u001b[0mvalue\u001b[0m\u001b[1;33m,\u001b[0m \u001b[0mhint\u001b[0m\u001b[1;33m,\u001b[0m \u001b[0msetter\u001b[0m\u001b[1;33m)\u001b[0m\u001b[1;33m\u001b[0m\u001b[1;33m\u001b[0m\u001b[0m\n\u001b[0m\u001b[0;32m    910\u001b[0m \u001b[1;33m\u001b[0m\u001b[0m\n\u001b[0;32m    911\u001b[0m \u001b[1;33m\u001b[0m\u001b[0m\n",
      "\u001b[1;32m~\\Anaconda3\\envs\\torch_py37\\lib\\site-packages\\bokeh\\model.py\u001b[0m in \u001b[0;36mtrigger\u001b[1;34m(self, attr, old, new, hint, setter)\u001b[0m\n\u001b[0;32m    660\u001b[0m                 \u001b[0m_visit_value_and_its_immediate_references\u001b[0m\u001b[1;33m(\u001b[0m\u001b[0mold\u001b[0m\u001b[1;33m,\u001b[0m \u001b[0mmark_dirty\u001b[0m\u001b[1;33m)\u001b[0m\u001b[1;33m\u001b[0m\u001b[1;33m\u001b[0m\u001b[0m\n\u001b[0;32m    661\u001b[0m                 \u001b[1;32mif\u001b[0m \u001b[0mdirty\u001b[0m\u001b[1;33m[\u001b[0m\u001b[1;34m'count'\u001b[0m\u001b[1;33m]\u001b[0m \u001b[1;33m>\u001b[0m \u001b[1;36m0\u001b[0m\u001b[1;33m:\u001b[0m\u001b[1;33m\u001b[0m\u001b[1;33m\u001b[0m\u001b[0m\n\u001b[1;32m--> 662\u001b[1;33m                     \u001b[0mself\u001b[0m\u001b[1;33m.\u001b[0m\u001b[0m_document\u001b[0m\u001b[1;33m.\u001b[0m\u001b[0m_invalidate_all_models\u001b[0m\u001b[1;33m(\u001b[0m\u001b[1;33m)\u001b[0m\u001b[1;33m\u001b[0m\u001b[1;33m\u001b[0m\u001b[0m\n\u001b[0m\u001b[0;32m    663\u001b[0m         \u001b[1;31m# chain up to invoke callbacks\u001b[0m\u001b[1;33m\u001b[0m\u001b[1;33m\u001b[0m\u001b[1;33m\u001b[0m\u001b[0m\n\u001b[0;32m    664\u001b[0m         \u001b[0msuper\u001b[0m\u001b[1;33m(\u001b[0m\u001b[1;33m)\u001b[0m\u001b[1;33m.\u001b[0m\u001b[0mtrigger\u001b[0m\u001b[1;33m(\u001b[0m\u001b[0mattr\u001b[0m\u001b[1;33m,\u001b[0m \u001b[0mold\u001b[0m\u001b[1;33m,\u001b[0m \u001b[0mnew\u001b[0m\u001b[1;33m,\u001b[0m \u001b[0mhint\u001b[0m\u001b[1;33m=\u001b[0m\u001b[0mhint\u001b[0m\u001b[1;33m,\u001b[0m \u001b[0msetter\u001b[0m\u001b[1;33m=\u001b[0m\u001b[0msetter\u001b[0m\u001b[1;33m)\u001b[0m\u001b[1;33m\u001b[0m\u001b[1;33m\u001b[0m\u001b[0m\n",
      "\u001b[1;32m~\\Anaconda3\\envs\\torch_py37\\lib\\site-packages\\bokeh\\document\\document.py\u001b[0m in \u001b[0;36m_invalidate_all_models\u001b[1;34m(self)\u001b[0m\n\u001b[0;32m   1029\u001b[0m         \u001b[1;31m# if freeze count is > 0, we'll recompute on unfreeze\u001b[0m\u001b[1;33m\u001b[0m\u001b[1;33m\u001b[0m\u001b[1;33m\u001b[0m\u001b[0m\n\u001b[0;32m   1030\u001b[0m         \u001b[1;32mif\u001b[0m \u001b[0mself\u001b[0m\u001b[1;33m.\u001b[0m\u001b[0m_all_models_freeze_count\u001b[0m \u001b[1;33m==\u001b[0m \u001b[1;36m0\u001b[0m\u001b[1;33m:\u001b[0m\u001b[1;33m\u001b[0m\u001b[1;33m\u001b[0m\u001b[0m\n\u001b[1;32m-> 1031\u001b[1;33m             \u001b[0mself\u001b[0m\u001b[1;33m.\u001b[0m\u001b[0m_recompute_all_models\u001b[0m\u001b[1;33m(\u001b[0m\u001b[1;33m)\u001b[0m\u001b[1;33m\u001b[0m\u001b[1;33m\u001b[0m\u001b[0m\n\u001b[0m\u001b[0;32m   1032\u001b[0m \u001b[1;33m\u001b[0m\u001b[0m\n\u001b[0;32m   1033\u001b[0m     \u001b[1;32mdef\u001b[0m \u001b[0m_is_single_string_selector\u001b[0m\u001b[1;33m(\u001b[0m\u001b[0mself\u001b[0m\u001b[1;33m,\u001b[0m \u001b[0mselector\u001b[0m\u001b[1;33m,\u001b[0m \u001b[0mfield\u001b[0m\u001b[1;33m)\u001b[0m\u001b[1;33m:\u001b[0m\u001b[1;33m\u001b[0m\u001b[1;33m\u001b[0m\u001b[0m\n",
      "\u001b[1;32m~\\Anaconda3\\envs\\torch_py37\\lib\\site-packages\\bokeh\\document\\document.py\u001b[0m in \u001b[0;36m_recompute_all_models\u001b[1;34m(self)\u001b[0m\n\u001b[0;32m   1081\u001b[0m         \u001b[0mnew_all_models_set\u001b[0m \u001b[1;33m=\u001b[0m \u001b[0mset\u001b[0m\u001b[1;33m(\u001b[0m\u001b[1;33m)\u001b[0m\u001b[1;33m\u001b[0m\u001b[1;33m\u001b[0m\u001b[0m\n\u001b[0;32m   1082\u001b[0m         \u001b[1;32mfor\u001b[0m \u001b[0mr\u001b[0m \u001b[1;32min\u001b[0m \u001b[0mself\u001b[0m\u001b[1;33m.\u001b[0m\u001b[0mroots\u001b[0m\u001b[1;33m:\u001b[0m\u001b[1;33m\u001b[0m\u001b[1;33m\u001b[0m\u001b[0m\n\u001b[1;32m-> 1083\u001b[1;33m             \u001b[0mnew_all_models_set\u001b[0m \u001b[1;33m=\u001b[0m \u001b[0mnew_all_models_set\u001b[0m\u001b[1;33m.\u001b[0m\u001b[0munion\u001b[0m\u001b[1;33m(\u001b[0m\u001b[0mr\u001b[0m\u001b[1;33m.\u001b[0m\u001b[0mreferences\u001b[0m\u001b[1;33m(\u001b[0m\u001b[1;33m)\u001b[0m\u001b[1;33m)\u001b[0m\u001b[1;33m\u001b[0m\u001b[1;33m\u001b[0m\u001b[0m\n\u001b[0m\u001b[0;32m   1084\u001b[0m         \u001b[0mold_all_models_set\u001b[0m \u001b[1;33m=\u001b[0m \u001b[0mset\u001b[0m\u001b[1;33m(\u001b[0m\u001b[0mself\u001b[0m\u001b[1;33m.\u001b[0m\u001b[0m_all_models\u001b[0m\u001b[1;33m.\u001b[0m\u001b[0mvalues\u001b[0m\u001b[1;33m(\u001b[0m\u001b[1;33m)\u001b[0m\u001b[1;33m)\u001b[0m\u001b[1;33m\u001b[0m\u001b[1;33m\u001b[0m\u001b[0m\n\u001b[0;32m   1085\u001b[0m         \u001b[0mto_detach\u001b[0m \u001b[1;33m=\u001b[0m \u001b[0mold_all_models_set\u001b[0m \u001b[1;33m-\u001b[0m \u001b[0mnew_all_models_set\u001b[0m\u001b[1;33m\u001b[0m\u001b[1;33m\u001b[0m\u001b[0m\n",
      "\u001b[1;32m~\\Anaconda3\\envs\\torch_py37\\lib\\site-packages\\bokeh\\model.py\u001b[0m in \u001b[0;36mreferences\u001b[1;34m(self)\u001b[0m\n\u001b[0;32m    539\u001b[0m \u001b[1;33m\u001b[0m\u001b[0m\n\u001b[0;32m    540\u001b[0m         '''\n\u001b[1;32m--> 541\u001b[1;33m         \u001b[1;32mreturn\u001b[0m \u001b[0mset\u001b[0m\u001b[1;33m(\u001b[0m\u001b[0mcollect_models\u001b[0m\u001b[1;33m(\u001b[0m\u001b[0mself\u001b[0m\u001b[1;33m)\u001b[0m\u001b[1;33m)\u001b[0m\u001b[1;33m\u001b[0m\u001b[1;33m\u001b[0m\u001b[0m\n\u001b[0m\u001b[0;32m    542\u001b[0m \u001b[1;33m\u001b[0m\u001b[0m\n\u001b[0;32m    543\u001b[0m     \u001b[1;32mdef\u001b[0m \u001b[0mselect\u001b[0m\u001b[1;33m(\u001b[0m\u001b[0mself\u001b[0m\u001b[1;33m,\u001b[0m \u001b[0mselector\u001b[0m\u001b[1;33m)\u001b[0m\u001b[1;33m:\u001b[0m\u001b[1;33m\u001b[0m\u001b[1;33m\u001b[0m\u001b[0m\n",
      "\u001b[1;32m~\\Anaconda3\\envs\\torch_py37\\lib\\site-packages\\bokeh\\model.py\u001b[0m in \u001b[0;36mcollect_models\u001b[1;34m(*input_values)\u001b[0m\n\u001b[0;32m    111\u001b[0m \u001b[1;33m\u001b[0m\u001b[0m\n\u001b[0;32m    112\u001b[0m     '''\n\u001b[1;32m--> 113\u001b[1;33m     \u001b[1;32mreturn\u001b[0m \u001b[0mcollect_filtered_models\u001b[0m\u001b[1;33m(\u001b[0m\u001b[1;32mNone\u001b[0m\u001b[1;33m,\u001b[0m \u001b[1;33m*\u001b[0m\u001b[0minput_values\u001b[0m\u001b[1;33m)\u001b[0m\u001b[1;33m\u001b[0m\u001b[1;33m\u001b[0m\u001b[0m\n\u001b[0m\u001b[0;32m    114\u001b[0m \u001b[1;33m\u001b[0m\u001b[0m\n\u001b[0;32m    115\u001b[0m \u001b[1;32mdef\u001b[0m \u001b[0mget_class\u001b[0m\u001b[1;33m(\u001b[0m\u001b[0mview_model_name\u001b[0m\u001b[1;33m)\u001b[0m\u001b[1;33m:\u001b[0m\u001b[1;33m\u001b[0m\u001b[1;33m\u001b[0m\u001b[0m\n",
      "\u001b[1;32m~\\Anaconda3\\envs\\torch_py37\\lib\\site-packages\\bokeh\\model.py\u001b[0m in \u001b[0;36mcollect_filtered_models\u001b[1;34m(discard, *input_values)\u001b[0m\n\u001b[0;32m     91\u001b[0m             \u001b[0mids\u001b[0m\u001b[1;33m.\u001b[0m\u001b[0madd\u001b[0m\u001b[1;33m(\u001b[0m\u001b[0mobj\u001b[0m\u001b[1;33m.\u001b[0m\u001b[0mid\u001b[0m\u001b[1;33m)\u001b[0m\u001b[1;33m\u001b[0m\u001b[1;33m\u001b[0m\u001b[0m\n\u001b[0;32m     92\u001b[0m             \u001b[0mcollected\u001b[0m\u001b[1;33m.\u001b[0m\u001b[0mappend\u001b[0m\u001b[1;33m(\u001b[0m\u001b[0mobj\u001b[0m\u001b[1;33m)\u001b[0m\u001b[1;33m\u001b[0m\u001b[1;33m\u001b[0m\u001b[0m\n\u001b[1;32m---> 93\u001b[1;33m             \u001b[0m_visit_immediate_value_references\u001b[0m\u001b[1;33m(\u001b[0m\u001b[0mobj\u001b[0m\u001b[1;33m,\u001b[0m \u001b[0mqueue_one\u001b[0m\u001b[1;33m)\u001b[0m\u001b[1;33m\u001b[0m\u001b[1;33m\u001b[0m\u001b[0m\n\u001b[0m\u001b[0;32m     94\u001b[0m \u001b[1;33m\u001b[0m\u001b[0m\n\u001b[0;32m     95\u001b[0m     \u001b[1;32mreturn\u001b[0m \u001b[0mcollected\u001b[0m\u001b[1;33m\u001b[0m\u001b[1;33m\u001b[0m\u001b[0m\n",
      "\u001b[1;32m~\\Anaconda3\\envs\\torch_py37\\lib\\site-packages\\bokeh\\model.py\u001b[0m in \u001b[0;36m_visit_immediate_value_references\u001b[1;34m(value, visitor)\u001b[0m\n\u001b[0;32m    792\u001b[0m     \u001b[1;32mif\u001b[0m \u001b[0misinstance\u001b[0m\u001b[1;33m(\u001b[0m\u001b[0mvalue\u001b[0m\u001b[1;33m,\u001b[0m \u001b[0mHasProps\u001b[0m\u001b[1;33m)\u001b[0m\u001b[1;33m:\u001b[0m\u001b[1;33m\u001b[0m\u001b[1;33m\u001b[0m\u001b[0m\n\u001b[0;32m    793\u001b[0m         \u001b[1;32mfor\u001b[0m \u001b[0mattr\u001b[0m \u001b[1;32min\u001b[0m \u001b[0mvalue\u001b[0m\u001b[1;33m.\u001b[0m\u001b[0mproperties_with_refs\u001b[0m\u001b[1;33m(\u001b[0m\u001b[1;33m)\u001b[0m\u001b[1;33m:\u001b[0m\u001b[1;33m\u001b[0m\u001b[1;33m\u001b[0m\u001b[0m\n\u001b[1;32m--> 794\u001b[1;33m             \u001b[0mchild\u001b[0m \u001b[1;33m=\u001b[0m \u001b[0mgetattr\u001b[0m\u001b[1;33m(\u001b[0m\u001b[0mvalue\u001b[0m\u001b[1;33m,\u001b[0m \u001b[0mattr\u001b[0m\u001b[1;33m)\u001b[0m\u001b[1;33m\u001b[0m\u001b[1;33m\u001b[0m\u001b[0m\n\u001b[0m\u001b[0;32m    795\u001b[0m             \u001b[0m_visit_value_and_its_immediate_references\u001b[0m\u001b[1;33m(\u001b[0m\u001b[0mchild\u001b[0m\u001b[1;33m,\u001b[0m \u001b[0mvisitor\u001b[0m\u001b[1;33m)\u001b[0m\u001b[1;33m\u001b[0m\u001b[1;33m\u001b[0m\u001b[0m\n\u001b[0;32m    796\u001b[0m     \u001b[1;32melse\u001b[0m\u001b[1;33m:\u001b[0m\u001b[1;33m\u001b[0m\u001b[1;33m\u001b[0m\u001b[0m\n",
      "\u001b[1;32m~\\Anaconda3\\envs\\torch_py37\\lib\\site-packages\\bokeh\\core\\property\\descriptors.py\u001b[0m in \u001b[0;36m__get__\u001b[1;34m(self, obj, owner)\u001b[0m\n\u001b[0;32m    491\u001b[0m         '''\n\u001b[0;32m    492\u001b[0m         \u001b[1;32mif\u001b[0m \u001b[0mobj\u001b[0m \u001b[1;32mis\u001b[0m \u001b[1;32mnot\u001b[0m \u001b[1;32mNone\u001b[0m\u001b[1;33m:\u001b[0m\u001b[1;33m\u001b[0m\u001b[1;33m\u001b[0m\u001b[0m\n\u001b[1;32m--> 493\u001b[1;33m             \u001b[1;32mreturn\u001b[0m \u001b[0mself\u001b[0m\u001b[1;33m.\u001b[0m\u001b[0m_get\u001b[0m\u001b[1;33m(\u001b[0m\u001b[0mobj\u001b[0m\u001b[1;33m)\u001b[0m\u001b[1;33m\u001b[0m\u001b[1;33m\u001b[0m\u001b[0m\n\u001b[0m\u001b[0;32m    494\u001b[0m         \u001b[1;32melif\u001b[0m \u001b[0mowner\u001b[0m \u001b[1;32mis\u001b[0m \u001b[1;32mnot\u001b[0m \u001b[1;32mNone\u001b[0m\u001b[1;33m:\u001b[0m\u001b[1;33m\u001b[0m\u001b[1;33m\u001b[0m\u001b[0m\n\u001b[0;32m    495\u001b[0m             \u001b[1;32mreturn\u001b[0m \u001b[0mself\u001b[0m\u001b[1;33m\u001b[0m\u001b[1;33m\u001b[0m\u001b[0m\n",
      "\u001b[1;32m~\\Anaconda3\\envs\\torch_py37\\lib\\site-packages\\bokeh\\core\\property\\descriptors.py\u001b[0m in \u001b[0;36m_get\u001b[1;34m(self, obj)\u001b[0m\n\u001b[0;32m    686\u001b[0m                                (self.name, obj.__class__.__name__))\n\u001b[0;32m    687\u001b[0m \u001b[1;33m\u001b[0m\u001b[0m\n\u001b[1;32m--> 688\u001b[1;33m         \u001b[1;32mif\u001b[0m \u001b[0mself\u001b[0m\u001b[1;33m.\u001b[0m\u001b[0mname\u001b[0m \u001b[1;32mnot\u001b[0m \u001b[1;32min\u001b[0m \u001b[0mobj\u001b[0m\u001b[1;33m.\u001b[0m\u001b[0m_property_values\u001b[0m\u001b[1;33m:\u001b[0m\u001b[1;33m\u001b[0m\u001b[1;33m\u001b[0m\u001b[0m\n\u001b[0m\u001b[0;32m    689\u001b[0m             \u001b[1;32mreturn\u001b[0m \u001b[0mself\u001b[0m\u001b[1;33m.\u001b[0m\u001b[0m_get_default\u001b[0m\u001b[1;33m(\u001b[0m\u001b[0mobj\u001b[0m\u001b[1;33m)\u001b[0m\u001b[1;33m\u001b[0m\u001b[1;33m\u001b[0m\u001b[0m\n\u001b[0;32m    690\u001b[0m         \u001b[1;32melse\u001b[0m\u001b[1;33m:\u001b[0m\u001b[1;33m\u001b[0m\u001b[1;33m\u001b[0m\u001b[0m\n",
      "\u001b[1;31mKeyboardInterrupt\u001b[0m: "
     ]
    }
   ],
   "source": [
    "t = bokeh.io.show(bokeh_candle_stick.dp, notebook_handle=True)\n",
    "bokeh_candle_stick.set_t(t)\n",
    "for i in range(1000):\n",
    "    time.sleep(1)\n",
    "    bokeh_candle_stick.update()"
   ]
  },
  {
   "cell_type": "code",
   "execution_count": null,
   "metadata": {
    "ExecuteTime": {
     "end_time": "2020-11-14T08:48:38.599508Z",
     "start_time": "2020-11-14T08:48:16.767Z"
    },
    "scrolled": false
   },
   "outputs": [],
   "source": [
    "bokeh_candle_stick.update()\n",
    "bokeh.io.show(bokeh_candle_stick.dp)"
   ]
  },
  {
   "cell_type": "markdown",
   "metadata": {},
   "source": [
    "### BokehCandleStickのカスタマイズ "
   ]
  },
  {
   "cell_type": "markdown",
   "metadata": {},
   "source": [
    "#### DataFrameを読み込む前提 "
   ]
  },
  {
   "cell_type": "code",
   "execution_count": 91,
   "metadata": {
    "ExecuteTime": {
     "end_time": "2020-11-16T13:16:14.595676Z",
     "start_time": "2020-11-16T13:16:14.546819Z"
    }
   },
   "outputs": [],
   "source": [
    "class BokehCandleStickDf(BokehCandleStick):\n",
    "    def __init__(self, \n",
    "                 stock_df,  \n",
    "                 ohlc_dict, \n",
    "                 initial_start_datetime, \n",
    "                 initial_end_datetime, \n",
    "                 freq_str=\"T\", \n",
    "                 figure=None,\n",
    "                 y_axis_margin=50, \n",
    "                 use_x_range=True,\n",
    "                 use_y_range=True,\n",
    "                 data_left_times=1,\n",
    "                 is_notebook=True,\n",
    "                 use_formatter=True\n",
    "                ):\n",
    "        \"\"\"\n",
    "        stock_df: pandas.DataFrame\n",
    "            株価データのDataFrame\n",
    "        ohlc_dict: dict of str\n",
    "            {\"Open\":カラム名,\"Close\":カラム名}のような辞書，stock_dbの出力に依存する\n",
    "        initial_start_date: datetime\n",
    "            開始時のx_rangeの下限のdatetime\n",
    "        initial_end_date: datetime\n",
    "            開始じのx_rangeの上限のdatetime\n",
    "        freq_str: str\n",
    "            サンプリング周期\n",
    "        figure: bokeh.plotting.Figure\n",
    "            複数描画の場合\n",
    "        y_axis_margin: int\n",
    "            yの表示領域のマージン\n",
    "        use_x_range: bool\n",
    "            このクラスにx_rangeの変更を任せるかどうか        \n",
    "        \"\"\"  \n",
    "        stock_data_supplier = StockDataSupplier(stock_df, freq_str)\n",
    "        \n",
    "        super(BokehCandleStickDf, self).__init__(stock_data_supplier=stock_data_supplier,\n",
    "                                                 ohlc_dict=ohlc_dict,\n",
    "                                                 initial_start_datetime=initial_start_datetime,\n",
    "                                                 initial_end_datetime=initial_end_datetime,\n",
    "                                                 freq_str=freq_str,\n",
    "                                                 figure=figure,\n",
    "                                                 y_axis_margin=y_axis_margin,\n",
    "                                                 use_x_range=use_x_range,\n",
    "                                                 use_y_range=use_y_range,\n",
    "                                                 data_left_times=data_left_times,\n",
    "                                                 is_notebook=is_notebook,\n",
    "                                                 use_formatter=use_formatter\n",
    "                                                )"
   ]
  },
  {
   "cell_type": "code",
   "execution_count": 93,
   "metadata": {
    "ExecuteTime": {
     "end_time": "2020-11-16T13:17:29.834563Z",
     "start_time": "2020-11-16T13:17:29.576255Z"
    }
   },
   "outputs": [],
   "source": [
    "bokeh_candle_stick_df = BokehCandleStickDf(stock_df,\n",
    "                                           ohlc_dict, \n",
    "                                           initial_start_datetime=start_time,\n",
    "                                           initial_end_datetime=end_time,\n",
    "                                           freq_str=\"5T\",\n",
    "                                           y_axis_margin=10,\n",
    "                                           data_left_times=5,\n",
    "                                           use_formatter=True,\n",
    "                                           is_notebook=True\n",
    "                                          )"
   ]
  },
  {
   "cell_type": "code",
   "execution_count": 94,
   "metadata": {
    "ExecuteTime": {
     "end_time": "2020-11-16T13:18:33.322897Z",
     "start_time": "2020-11-16T13:18:19.662359Z"
    }
   },
   "outputs": [
    {
     "data": {
      "text/html": [
       "\n",
       "\n",
       "\n",
       "\n",
       "\n",
       "\n",
       "  <div class=\"bk-root\" id=\"9c0f777c-5161-466a-af59-b3ef40afcc70\" data-root-id=\"13002\"></div>\n"
      ]
     },
     "metadata": {},
     "output_type": "display_data"
    },
    {
     "data": {
      "application/javascript": [
       "(function(root) {\n",
       "  function embed_document(root) {\n",
       "    \n",
       "  var docs_json = {\"f6a691b3-2dd3-4c44-bb4b-e96d344f216a\":{\"roots\":{\"references\":[{\"attributes\":{\"below\":[{\"id\":\"13009\"}],\"center\":[{\"id\":\"13012\"},{\"id\":\"13016\"}],\"left\":[{\"id\":\"13013\"}],\"plot_width\":1000,\"renderers\":[{\"id\":\"13034\"},{\"id\":\"13039\"},{\"id\":\"13043\"}],\"title\":{\"id\":\"13252\"},\"toolbar\":{\"id\":\"13024\"},\"x_range\":{\"id\":\"13000\"},\"x_scale\":{\"id\":\"13005\"},\"y_range\":{\"id\":\"13001\"},\"y_scale\":{\"id\":\"13007\"}},\"id\":\"13002\",\"subtype\":\"Figure\",\"type\":\"Plot\"},{\"attributes\":{\"data_source\":{\"id\":\"12995\"},\"glyph\":{\"id\":\"13032\"},\"hover_glyph\":null,\"muted_glyph\":null,\"nonselection_glyph\":{\"id\":\"13033\"},\"selection_glyph\":null,\"view\":{\"id\":\"13035\"}},\"id\":\"13034\",\"type\":\"GlyphRenderer\"},{\"attributes\":{\"formatter\":{\"id\":\"13255\"},\"ticker\":{\"id\":\"13014\"}},\"id\":\"13013\",\"type\":\"LinearAxis\"},{\"attributes\":{},\"id\":\"13021\",\"type\":\"ResetTool\"},{\"attributes\":{\"months\":[0,2,4,6,8,10]},\"id\":\"13267\",\"type\":\"MonthsTicker\"},{\"attributes\":{\"axis\":{\"id\":\"13013\"},\"dimension\":1,\"ticker\":null},\"id\":\"13016\",\"type\":\"Grid\"},{\"attributes\":{\"num_minor_ticks\":5,\"tickers\":[{\"id\":\"13259\"},{\"id\":\"13260\"},{\"id\":\"13261\"},{\"id\":\"13262\"},{\"id\":\"13263\"},{\"id\":\"13264\"},{\"id\":\"13265\"},{\"id\":\"13266\"},{\"id\":\"13267\"},{\"id\":\"13268\"},{\"id\":\"13269\"},{\"id\":\"13270\"}]},\"id\":\"13010\",\"type\":\"DatetimeTicker\"},{\"attributes\":{\"days\":[1,8,15,22]},\"id\":\"13264\",\"type\":\"DaysTicker\"},{\"attributes\":{\"end\":1135.0,\"start\":1097.0},\"id\":\"13001\",\"type\":\"Range1d\"},{\"attributes\":{\"data_source\":{\"id\":\"12995\"},\"glyph\":{\"id\":\"13037\"},\"hover_glyph\":null,\"muted_glyph\":null,\"nonselection_glyph\":{\"id\":\"13038\"},\"selection_glyph\":null,\"view\":{\"id\":\"12998\"}},\"id\":\"13039\",\"type\":\"GlyphRenderer\"},{\"attributes\":{},\"id\":\"13014\",\"type\":\"BasicTicker\"},{\"attributes\":{\"base\":24,\"mantissas\":[1,2,4,6,8,12],\"max_interval\":43200000.0,\"min_interval\":3600000.0,\"num_minor_ticks\":0},\"id\":\"13261\",\"type\":\"AdaptiveTicker\"},{\"attributes\":{},\"id\":\"13270\",\"type\":\"YearsTicker\"},{\"attributes\":{\"active_drag\":\"auto\",\"active_inspect\":\"auto\",\"active_multi\":null,\"active_scroll\":\"auto\",\"active_tap\":\"auto\",\"tools\":[{\"id\":\"13017\"},{\"id\":\"13018\"},{\"id\":\"13019\"},{\"id\":\"13020\"},{\"id\":\"13021\"},{\"id\":\"13022\"}]},\"id\":\"13024\",\"type\":\"Toolbar\"},{\"attributes\":{\"months\":[0,4,8]},\"id\":\"13268\",\"type\":\"MonthsTicker\"},{\"attributes\":{\"days\":[1,4,7,10,13,16,19,22,25,28]},\"id\":\"13263\",\"type\":\"DaysTicker\"},{\"attributes\":{\"months\":[0,6]},\"id\":\"13269\",\"type\":\"MonthsTicker\"},{\"attributes\":{},\"id\":\"13017\",\"type\":\"PanTool\"},{\"attributes\":{\"bottom\":{\"field\":\"Open_4755\"},\"fill_alpha\":{\"value\":0.1},\"fill_color\":{\"value\":\"#F2583E\"},\"line_alpha\":{\"value\":0.1},\"top\":{\"field\":\"Close_4755\"},\"width\":{\"value\":300000.0},\"x\":{\"field\":\"timestamp\"}},\"id\":\"13042\",\"type\":\"VBar\"},{\"attributes\":{},\"id\":\"13022\",\"type\":\"HelpTool\"},{\"attributes\":{\"booleans\":[false,false,true,false,true,true,true,false,true,false,false,true,true,false,false,false,false,true,false,false,true,true,true,false,true,true,false,false,false,true]},\"id\":\"12997\",\"type\":\"BooleanFilter\"},{\"attributes\":{\"data\":{\"Close_4755\":{\"__ndarray__\":\"AAAAAACEkUAAAAAAAIiRQAAAAAAAeJFAAAAAAAB8kUAAAAAAAHiRQAAAAAAAbJFAAAAAAABkkUAAAAAAAGSRQAAAAAAAYJFAAAAAAABokUAAAAAAAGyRQAAAAAAAaJFAAAAAAABUkUAAAAAAAGiRQAAAAAAAaJFAAAAAAABskUAAAAAAAGyRQAAAAAAAZJFAAAAAAABokUAAAAAAAGSRQAAAAAAAYJFAAAAAAABckUAAAAAAAFSRQAAAAAAAWJFAAAAAAABYkUAAAAAAAFiRQAAAAAAAWJFAAAAAAABckUAAAAAAAFiRQAAAAAAAUJFA\",\"dtype\":\"float64\",\"order\":\"little\",\"shape\":[30]},\"High_4755\":{\"__ndarray__\":\"AAAAAACUkUAAAAAAAIyRQAAAAAAAjJFAAAAAAACAkUAAAAAAAICRQAAAAAAAdJFAAAAAAAB0kUAAAAAAAGiRQAAAAAAAaJFAAAAAAABskUAAAAAAAGyRQAAAAAAAcJFAAAAAAABokUAAAAAAAGyRQAAAAAAAbJFAAAAAAABskUAAAAAAAHSRQAAAAAAAaJFAAAAAAABskUAAAAAAAGSRQAAAAAAAaJFAAAAAAABgkUAAAAAAAGCRQAAAAAAAYJFAAAAAAABgkUAAAAAAAFyRQAAAAAAAXJFAAAAAAABckUAAAAAAAFyRQAAAAAAAWJFA\",\"dtype\":\"float64\",\"order\":\"little\",\"shape\":[30]},\"Low_4755\":{\"__ndarray__\":\"AAAAAAB0kUAAAAAAAICRQAAAAAAAdJFAAAAAAAB0kUAAAAAAAHSRQAAAAAAAZJFAAAAAAABgkUAAAAAAAGCRQAAAAAAAYJFAAAAAAABgkUAAAAAAAGSRQAAAAAAAYJFAAAAAAABMkUAAAAAAAFSRQAAAAAAAZJFAAAAAAABokUAAAAAAAGiRQAAAAAAAZJFAAAAAAABkkUAAAAAAAGCRQAAAAAAAXJFAAAAAAABUkUAAAAAAAFSRQAAAAAAAVJFAAAAAAABUkUAAAAAAAFSRQAAAAAAAWJFAAAAAAABUkUAAAAAAAEyRQAAAAAAATJFA\",\"dtype\":\"float64\",\"order\":\"little\",\"shape\":[30]},\"Open_4755\":{\"__ndarray__\":\"AAAAAAB4kUAAAAAAAISRQAAAAAAAiJFAAAAAAAB4kUAAAAAAAHyRQAAAAAAAdJFAAAAAAABokUAAAAAAAGSRQAAAAAAAZJFAAAAAAABgkUAAAAAAAGiRQAAAAAAAbJFAAAAAAABokUAAAAAAAFSRQAAAAAAAaJFAAAAAAABokUAAAAAAAGiRQAAAAAAAaJFAAAAAAABokUAAAAAAAGSRQAAAAAAAZJFAAAAAAABgkUAAAAAAAFyRQAAAAAAAVJFAAAAAAABgkUAAAAAAAFyRQAAAAAAAWJFAAAAAAABYkUAAAAAAAFiRQAAAAAAAWJFA\",\"dtype\":\"float64\",\"order\":\"little\",\"shape\":[30]},\"timestamp\":{\"__ndarray__\":\"AADUiBBdd0IAABLSEF13QgAAUBsRXXdCAACOZBFdd0IAAMytEV13QgAACvcRXXdCAABIQBJdd0IAAIaJEl13QgAAxNISXXdCAAACHBNdd0IAAEBlE113QgAAfq4TXXdCAAC89xNdd0IAAPpAFF13QgAAOIoUXXdCAAB20xRdd0IAALQcFV13QgAA8mUVXXdCAAAwrxVdd0IAAG74FV13QgAArEEWXXdCAADqihZdd0IAACjUFl13QgAAZh0XXXdCAACkZhddd0IAAOKvF113QgAAIPkXXXdCAABeQhhdd0IAAJyLGF13QgAA2tQYXXdC\",\"dtype\":\"float64\",\"order\":\"little\",\"shape\":[30]}},\"selected\":{\"id\":\"13257\"},\"selection_policy\":{\"id\":\"13258\"}},\"id\":\"12995\",\"type\":\"ColumnDataSource\"},{\"attributes\":{\"bottom\":{\"field\":\"Open_4755\"},\"fill_color\":{\"value\":\"#F2583E\"},\"top\":{\"field\":\"Close_4755\"},\"width\":{\"value\":300000.0},\"x\":{\"field\":\"timestamp\"}},\"id\":\"13041\",\"type\":\"VBar\"},{\"attributes\":{\"days\":[\"%m-%d-%H-%M\"],\"hours\":[\"%m-%d-%H-%M\"],\"minutes\":[\"%m-%d-%H-%M\"],\"months\":[\"%m-%d-%H-%M\"],\"years\":[\"%m-%d-%H-%M\"]},\"id\":\"13044\",\"type\":\"DatetimeTickFormatter\"},{\"attributes\":{\"booleans\":[true,true,false,true,false,false,false,true,false,true,true,false,false,true,true,true,true,false,true,true,false,false,false,true,false,false,true,true,true,false]},\"id\":\"12996\",\"type\":\"BooleanFilter\"},{\"attributes\":{\"filters\":[{\"id\":\"12997\"}],\"source\":{\"id\":\"12995\"}},\"id\":\"12999\",\"type\":\"CDSView\"},{\"attributes\":{\"base\":60,\"mantissas\":[1,2,5,10,15,20,30],\"max_interval\":1800000.0,\"min_interval\":1000.0,\"num_minor_ticks\":0},\"id\":\"13260\",\"type\":\"AdaptiveTicker\"},{\"attributes\":{},\"id\":\"13020\",\"type\":\"SaveTool\"},{\"attributes\":{\"bottom\":{\"field\":\"Close_4755\"},\"fill_color\":{\"value\":\"#4be639\"},\"top\":{\"field\":\"Open_4755\"},\"width\":{\"value\":300000.0},\"x\":{\"field\":\"timestamp\"}},\"id\":\"13037\",\"type\":\"VBar\"},{\"attributes\":{},\"id\":\"13257\",\"type\":\"Selection\"},{\"attributes\":{},\"id\":\"13258\",\"type\":\"UnionRenderers\"},{\"attributes\":{\"months\":[0,1,2,3,4,5,6,7,8,9,10,11]},\"id\":\"13266\",\"type\":\"MonthsTicker\"},{\"attributes\":{\"end\":1605538500000.0,\"start\":1605529800000.0},\"id\":\"13000\",\"type\":\"Range1d\"},{\"attributes\":{},\"id\":\"13007\",\"type\":\"LinearScale\"},{\"attributes\":{\"source\":{\"id\":\"12995\"}},\"id\":\"13035\",\"type\":\"CDSView\"},{\"attributes\":{\"bottom\":{\"field\":\"Close_4755\"},\"fill_alpha\":{\"value\":0.1},\"fill_color\":{\"value\":\"#4be639\"},\"line_alpha\":{\"value\":0.1},\"top\":{\"field\":\"Open_4755\"},\"width\":{\"value\":300000.0},\"x\":{\"field\":\"timestamp\"}},\"id\":\"13038\",\"type\":\"VBar\"},{\"attributes\":{\"data_source\":{\"id\":\"12995\"},\"glyph\":{\"id\":\"13041\"},\"hover_glyph\":null,\"muted_glyph\":null,\"nonselection_glyph\":{\"id\":\"13042\"},\"selection_glyph\":null,\"view\":{\"id\":\"12999\"}},\"id\":\"13043\",\"type\":\"GlyphRenderer\"},{\"attributes\":{\"filters\":[{\"id\":\"12996\"}],\"source\":{\"id\":\"12995\"}},\"id\":\"12998\",\"type\":\"CDSView\"},{\"attributes\":{\"mantissas\":[1,2,5],\"max_interval\":500.0,\"num_minor_ticks\":0},\"id\":\"13259\",\"type\":\"AdaptiveTicker\"},{\"attributes\":{\"days\":[1,15]},\"id\":\"13265\",\"type\":\"DaysTicker\"},{\"attributes\":{\"formatter\":{\"id\":\"13044\"},\"major_label_orientation\":0.7853981633974483,\"ticker\":{\"id\":\"13010\"}},\"id\":\"13009\",\"type\":\"DatetimeAxis\"},{\"attributes\":{\"x0\":{\"field\":\"timestamp\"},\"x1\":{\"field\":\"timestamp\"},\"y0\":{\"field\":\"Low_4755\"},\"y1\":{\"field\":\"High_4755\"}},\"id\":\"13032\",\"type\":\"Segment\"},{\"attributes\":{},\"id\":\"13255\",\"type\":\"BasicTickFormatter\"},{\"attributes\":{},\"id\":\"13018\",\"type\":\"WheelZoomTool\"},{\"attributes\":{\"bottom_units\":\"screen\",\"fill_alpha\":0.5,\"fill_color\":\"lightgrey\",\"left_units\":\"screen\",\"level\":\"overlay\",\"line_alpha\":1.0,\"line_color\":\"black\",\"line_dash\":[4,4],\"line_width\":2,\"right_units\":\"screen\",\"top_units\":\"screen\"},\"id\":\"13023\",\"type\":\"BoxAnnotation\"},{\"attributes\":{\"days\":[1,2,3,4,5,6,7,8,9,10,11,12,13,14,15,16,17,18,19,20,21,22,23,24,25,26,27,28,29,30,31]},\"id\":\"13262\",\"type\":\"DaysTicker\"},{\"attributes\":{\"axis\":{\"id\":\"13009\"},\"ticker\":null},\"id\":\"13012\",\"type\":\"Grid\"},{\"attributes\":{\"line_alpha\":{\"value\":0.1},\"x0\":{\"field\":\"timestamp\"},\"x1\":{\"field\":\"timestamp\"},\"y0\":{\"field\":\"Low_4755\"},\"y1\":{\"field\":\"High_4755\"}},\"id\":\"13033\",\"type\":\"Segment\"},{\"attributes\":{},\"id\":\"13005\",\"type\":\"LinearScale\"},{\"attributes\":{\"text\":\"\"},\"id\":\"13252\",\"type\":\"Title\"},{\"attributes\":{\"overlay\":{\"id\":\"13023\"}},\"id\":\"13019\",\"type\":\"BoxZoomTool\"}],\"root_ids\":[\"13002\"]},\"title\":\"Bokeh Application\",\"version\":\"2.2.3\"}};\n",
       "  var render_items = [{\"docid\":\"f6a691b3-2dd3-4c44-bb4b-e96d344f216a\",\"notebook_comms_target\":\"13271\",\"root_ids\":[\"13002\"],\"roots\":{\"13002\":\"9c0f777c-5161-466a-af59-b3ef40afcc70\"}}];\n",
       "  root.Bokeh.embed.embed_items_notebook(docs_json, render_items);\n",
       "\n",
       "  }\n",
       "  if (root.Bokeh !== undefined) {\n",
       "    embed_document(root);\n",
       "  } else {\n",
       "    var attempts = 0;\n",
       "    var timer = setInterval(function(root) {\n",
       "      if (root.Bokeh !== undefined) {\n",
       "        clearInterval(timer);\n",
       "        embed_document(root);\n",
       "      } else {\n",
       "        attempts++;\n",
       "        if (attempts > 100) {\n",
       "          clearInterval(timer);\n",
       "          console.log(\"Bokeh: ERROR: Unable to run BokehJS code because BokehJS library is missing\");\n",
       "        }\n",
       "      }\n",
       "    }, 10, root)\n",
       "  }\n",
       "})(window);"
      ],
      "application/vnd.bokehjs_exec.v0+json": ""
     },
     "metadata": {
      "application/vnd.bokehjs_exec.v0+json": {
       "id": "13002"
      }
     },
     "output_type": "display_data"
    },
    {
     "ename": "KeyboardInterrupt",
     "evalue": "",
     "output_type": "error",
     "traceback": [
      "\u001b[1;31m---------------------------------------------------------------------------\u001b[0m",
      "\u001b[1;31mKeyboardInterrupt\u001b[0m                         Traceback (most recent call last)",
      "\u001b[1;32m<ipython-input-94-528604d305cc>\u001b[0m in \u001b[0;36m<module>\u001b[1;34m\u001b[0m\n\u001b[0;32m      3\u001b[0m \u001b[1;32mfor\u001b[0m \u001b[0mi\u001b[0m \u001b[1;32min\u001b[0m \u001b[0mrange\u001b[0m\u001b[1;33m(\u001b[0m\u001b[1;36m1000\u001b[0m\u001b[1;33m)\u001b[0m\u001b[1;33m:\u001b[0m\u001b[1;33m\u001b[0m\u001b[1;33m\u001b[0m\u001b[0m\n\u001b[0;32m      4\u001b[0m     \u001b[0mtime\u001b[0m\u001b[1;33m.\u001b[0m\u001b[0msleep\u001b[0m\u001b[1;33m(\u001b[0m\u001b[1;36m1\u001b[0m\u001b[1;33m)\u001b[0m\u001b[1;33m\u001b[0m\u001b[1;33m\u001b[0m\u001b[0m\n\u001b[1;32m----> 5\u001b[1;33m     \u001b[0mbokeh_candle_stick_df\u001b[0m\u001b[1;33m.\u001b[0m\u001b[0mupdate\u001b[0m\u001b[1;33m(\u001b[0m\u001b[1;33m)\u001b[0m\u001b[1;33m\u001b[0m\u001b[1;33m\u001b[0m\u001b[0m\n\u001b[0m",
      "\u001b[1;32m<ipython-input-88-39f47a3f42fb>\u001b[0m in \u001b[0;36mupdate\u001b[1;34m(self)\u001b[0m\n\u001b[0;32m    181\u001b[0m \u001b[1;33m\u001b[0m\u001b[0m\n\u001b[0;32m    182\u001b[0m         \u001b[1;31m# filterの変更\u001b[0m\u001b[1;33m\u001b[0m\u001b[1;33m\u001b[0m\u001b[1;33m\u001b[0m\u001b[0m\n\u001b[1;32m--> 183\u001b[1;33m         \u001b[0mself\u001b[0m\u001b[1;33m.\u001b[0m\u001b[0mview_increase\u001b[0m\u001b[1;33m.\u001b[0m\u001b[0mfilters\u001b[0m \u001b[1;33m=\u001b[0m \u001b[1;33m[\u001b[0m\u001b[0mBooleanFilter\u001b[0m\u001b[1;33m(\u001b[0m\u001b[0mself\u001b[0m\u001b[1;33m.\u001b[0m\u001b[0mtemp_increase\u001b[0m\u001b[1;33m)\u001b[0m\u001b[1;33m,\u001b[0m\u001b[1;33m]\u001b[0m\u001b[1;33m\u001b[0m\u001b[1;33m\u001b[0m\u001b[0m\n\u001b[0m\u001b[0;32m    184\u001b[0m         \u001b[0mself\u001b[0m\u001b[1;33m.\u001b[0m\u001b[0mview_decrease\u001b[0m\u001b[1;33m.\u001b[0m\u001b[0mfilters\u001b[0m \u001b[1;33m=\u001b[0m \u001b[1;33m[\u001b[0m\u001b[0mBooleanFilter\u001b[0m\u001b[1;33m(\u001b[0m\u001b[0mself\u001b[0m\u001b[1;33m.\u001b[0m\u001b[0mtemp_decrease\u001b[0m\u001b[1;33m)\u001b[0m\u001b[1;33m,\u001b[0m\u001b[1;33m]\u001b[0m\u001b[1;33m\u001b[0m\u001b[1;33m\u001b[0m\u001b[0m\n\u001b[0;32m    185\u001b[0m \u001b[1;33m\u001b[0m\u001b[0m\n",
      "\u001b[1;32m~\\Anaconda3\\envs\\torch_py37\\lib\\site-packages\\bokeh\\core\\has_props.py\u001b[0m in \u001b[0;36m__setattr__\u001b[1;34m(self, name, value)\u001b[0m\n\u001b[0;32m    276\u001b[0m \u001b[1;33m\u001b[0m\u001b[0m\n\u001b[0;32m    277\u001b[0m         \u001b[1;32mif\u001b[0m \u001b[0mname\u001b[0m \u001b[1;32min\u001b[0m \u001b[0mprops\u001b[0m \u001b[1;32mor\u001b[0m \u001b[1;33m(\u001b[0m\u001b[0mdescriptor\u001b[0m \u001b[1;32mis\u001b[0m \u001b[1;32mnot\u001b[0m \u001b[1;32mNone\u001b[0m \u001b[1;32mand\u001b[0m \u001b[0mdescriptor\u001b[0m\u001b[1;33m.\u001b[0m\u001b[0mfset\u001b[0m \u001b[1;32mis\u001b[0m \u001b[1;32mnot\u001b[0m \u001b[1;32mNone\u001b[0m\u001b[1;33m)\u001b[0m\u001b[1;33m:\u001b[0m\u001b[1;33m\u001b[0m\u001b[1;33m\u001b[0m\u001b[0m\n\u001b[1;32m--> 278\u001b[1;33m             \u001b[0msuper\u001b[0m\u001b[1;33m(\u001b[0m\u001b[1;33m)\u001b[0m\u001b[1;33m.\u001b[0m\u001b[0m__setattr__\u001b[0m\u001b[1;33m(\u001b[0m\u001b[0mname\u001b[0m\u001b[1;33m,\u001b[0m \u001b[0mvalue\u001b[0m\u001b[1;33m)\u001b[0m\u001b[1;33m\u001b[0m\u001b[1;33m\u001b[0m\u001b[0m\n\u001b[0m\u001b[0;32m    279\u001b[0m         \u001b[1;32melse\u001b[0m\u001b[1;33m:\u001b[0m\u001b[1;33m\u001b[0m\u001b[1;33m\u001b[0m\u001b[0m\n\u001b[0;32m    280\u001b[0m             \u001b[0mmatches\u001b[0m\u001b[1;33m,\u001b[0m \u001b[0mtext\u001b[0m \u001b[1;33m=\u001b[0m \u001b[0mdifflib\u001b[0m\u001b[1;33m.\u001b[0m\u001b[0mget_close_matches\u001b[0m\u001b[1;33m(\u001b[0m\u001b[0mname\u001b[0m\u001b[1;33m.\u001b[0m\u001b[0mlower\u001b[0m\u001b[1;33m(\u001b[0m\u001b[1;33m)\u001b[0m\u001b[1;33m,\u001b[0m \u001b[0mprops\u001b[0m\u001b[1;33m)\u001b[0m\u001b[1;33m,\u001b[0m \u001b[1;34m\"similar\"\u001b[0m\u001b[1;33m\u001b[0m\u001b[1;33m\u001b[0m\u001b[0m\n",
      "\u001b[1;32m~\\Anaconda3\\envs\\torch_py37\\lib\\site-packages\\bokeh\\core\\property\\descriptors.py\u001b[0m in \u001b[0;36m__set__\u001b[1;34m(self, obj, value, setter)\u001b[0m\n\u001b[0;32m    537\u001b[0m             \u001b[1;32mraise\u001b[0m \u001b[0mRuntimeError\u001b[0m\u001b[1;33m(\u001b[0m\u001b[1;34m\"%s.%s is a readonly property\"\u001b[0m \u001b[1;33m%\u001b[0m \u001b[1;33m(\u001b[0m\u001b[0mobj\u001b[0m\u001b[1;33m.\u001b[0m\u001b[0m__class__\u001b[0m\u001b[1;33m.\u001b[0m\u001b[0m__name__\u001b[0m\u001b[1;33m,\u001b[0m \u001b[0mself\u001b[0m\u001b[1;33m.\u001b[0m\u001b[0mname\u001b[0m\u001b[1;33m)\u001b[0m\u001b[1;33m)\u001b[0m\u001b[1;33m\u001b[0m\u001b[1;33m\u001b[0m\u001b[0m\n\u001b[0;32m    538\u001b[0m \u001b[1;33m\u001b[0m\u001b[0m\n\u001b[1;32m--> 539\u001b[1;33m         \u001b[0mself\u001b[0m\u001b[1;33m.\u001b[0m\u001b[0m_internal_set\u001b[0m\u001b[1;33m(\u001b[0m\u001b[0mobj\u001b[0m\u001b[1;33m,\u001b[0m \u001b[0mvalue\u001b[0m\u001b[1;33m,\u001b[0m \u001b[0msetter\u001b[0m\u001b[1;33m=\u001b[0m\u001b[0msetter\u001b[0m\u001b[1;33m)\u001b[0m\u001b[1;33m\u001b[0m\u001b[1;33m\u001b[0m\u001b[0m\n\u001b[0m\u001b[0;32m    540\u001b[0m \u001b[1;33m\u001b[0m\u001b[0m\n\u001b[0;32m    541\u001b[0m     \u001b[1;32mdef\u001b[0m \u001b[0m__delete__\u001b[0m\u001b[1;33m(\u001b[0m\u001b[0mself\u001b[0m\u001b[1;33m,\u001b[0m \u001b[0mobj\u001b[0m\u001b[1;33m)\u001b[0m\u001b[1;33m:\u001b[0m\u001b[1;33m\u001b[0m\u001b[1;33m\u001b[0m\u001b[0m\n",
      "\u001b[1;32m~\\Anaconda3\\envs\\torch_py37\\lib\\site-packages\\bokeh\\core\\property\\descriptors.py\u001b[0m in \u001b[0;36m_internal_set\u001b[1;34m(self, obj, value, hint, setter)\u001b[0m\n\u001b[0;32m    761\u001b[0m \u001b[1;33m\u001b[0m\u001b[0m\n\u001b[0;32m    762\u001b[0m         \u001b[0mold\u001b[0m \u001b[1;33m=\u001b[0m \u001b[0mself\u001b[0m\u001b[1;33m.\u001b[0m\u001b[0m__get__\u001b[0m\u001b[1;33m(\u001b[0m\u001b[0mobj\u001b[0m\u001b[1;33m,\u001b[0m \u001b[0mobj\u001b[0m\u001b[1;33m.\u001b[0m\u001b[0m__class__\u001b[0m\u001b[1;33m)\u001b[0m\u001b[1;33m\u001b[0m\u001b[1;33m\u001b[0m\u001b[0m\n\u001b[1;32m--> 763\u001b[1;33m         \u001b[0mself\u001b[0m\u001b[1;33m.\u001b[0m\u001b[0m_real_set\u001b[0m\u001b[1;33m(\u001b[0m\u001b[0mobj\u001b[0m\u001b[1;33m,\u001b[0m \u001b[0mold\u001b[0m\u001b[1;33m,\u001b[0m \u001b[0mvalue\u001b[0m\u001b[1;33m,\u001b[0m \u001b[0mhint\u001b[0m\u001b[1;33m=\u001b[0m\u001b[0mhint\u001b[0m\u001b[1;33m,\u001b[0m \u001b[0msetter\u001b[0m\u001b[1;33m=\u001b[0m\u001b[0msetter\u001b[0m\u001b[1;33m)\u001b[0m\u001b[1;33m\u001b[0m\u001b[1;33m\u001b[0m\u001b[0m\n\u001b[0m\u001b[0;32m    764\u001b[0m \u001b[1;33m\u001b[0m\u001b[0m\n\u001b[0;32m    765\u001b[0m     \u001b[1;32mdef\u001b[0m \u001b[0m_real_set\u001b[0m\u001b[1;33m(\u001b[0m\u001b[0mself\u001b[0m\u001b[1;33m,\u001b[0m \u001b[0mobj\u001b[0m\u001b[1;33m,\u001b[0m \u001b[0mold\u001b[0m\u001b[1;33m,\u001b[0m \u001b[0mvalue\u001b[0m\u001b[1;33m,\u001b[0m \u001b[0mhint\u001b[0m\u001b[1;33m=\u001b[0m\u001b[1;32mNone\u001b[0m\u001b[1;33m,\u001b[0m \u001b[0msetter\u001b[0m\u001b[1;33m=\u001b[0m\u001b[1;32mNone\u001b[0m\u001b[1;33m)\u001b[0m\u001b[1;33m:\u001b[0m\u001b[1;33m\u001b[0m\u001b[1;33m\u001b[0m\u001b[0m\n",
      "\u001b[1;32m~\\Anaconda3\\envs\\torch_py37\\lib\\site-packages\\bokeh\\core\\property\\descriptors.py\u001b[0m in \u001b[0;36m_real_set\u001b[1;34m(self, obj, old, value, hint, setter)\u001b[0m\n\u001b[0;32m    830\u001b[0m \u001b[1;33m\u001b[0m\u001b[0m\n\u001b[0;32m    831\u001b[0m         \u001b[1;31m# for notification purposes, \"old\" should be the logical old\u001b[0m\u001b[1;33m\u001b[0m\u001b[1;33m\u001b[0m\u001b[1;33m\u001b[0m\u001b[0m\n\u001b[1;32m--> 832\u001b[1;33m         \u001b[0mself\u001b[0m\u001b[1;33m.\u001b[0m\u001b[0m_trigger\u001b[0m\u001b[1;33m(\u001b[0m\u001b[0mobj\u001b[0m\u001b[1;33m,\u001b[0m \u001b[0mold\u001b[0m\u001b[1;33m,\u001b[0m \u001b[0mvalue\u001b[0m\u001b[1;33m,\u001b[0m \u001b[0mhint\u001b[0m\u001b[1;33m=\u001b[0m\u001b[0mhint\u001b[0m\u001b[1;33m,\u001b[0m \u001b[0msetter\u001b[0m\u001b[1;33m=\u001b[0m\u001b[0msetter\u001b[0m\u001b[1;33m)\u001b[0m\u001b[1;33m\u001b[0m\u001b[1;33m\u001b[0m\u001b[0m\n\u001b[0m\u001b[0;32m    833\u001b[0m \u001b[1;33m\u001b[0m\u001b[0m\n\u001b[0;32m    834\u001b[0m     \u001b[1;31m# called when a container is mutated \"behind our back\" and\u001b[0m\u001b[1;33m\u001b[0m\u001b[1;33m\u001b[0m\u001b[1;33m\u001b[0m\u001b[0m\n",
      "\u001b[1;32m~\\Anaconda3\\envs\\torch_py37\\lib\\site-packages\\bokeh\\core\\property\\descriptors.py\u001b[0m in \u001b[0;36m_trigger\u001b[1;34m(self, obj, old, value, hint, setter)\u001b[0m\n\u001b[0;32m    907\u001b[0m         '''\n\u001b[0;32m    908\u001b[0m         \u001b[1;32mif\u001b[0m \u001b[0mhasattr\u001b[0m\u001b[1;33m(\u001b[0m\u001b[0mobj\u001b[0m\u001b[1;33m,\u001b[0m \u001b[1;34m'trigger'\u001b[0m\u001b[1;33m)\u001b[0m\u001b[1;33m:\u001b[0m\u001b[1;33m\u001b[0m\u001b[1;33m\u001b[0m\u001b[0m\n\u001b[1;32m--> 909\u001b[1;33m             \u001b[0mobj\u001b[0m\u001b[1;33m.\u001b[0m\u001b[0mtrigger\u001b[0m\u001b[1;33m(\u001b[0m\u001b[0mself\u001b[0m\u001b[1;33m.\u001b[0m\u001b[0mname\u001b[0m\u001b[1;33m,\u001b[0m \u001b[0mold\u001b[0m\u001b[1;33m,\u001b[0m \u001b[0mvalue\u001b[0m\u001b[1;33m,\u001b[0m \u001b[0mhint\u001b[0m\u001b[1;33m,\u001b[0m \u001b[0msetter\u001b[0m\u001b[1;33m)\u001b[0m\u001b[1;33m\u001b[0m\u001b[1;33m\u001b[0m\u001b[0m\n\u001b[0m\u001b[0;32m    910\u001b[0m \u001b[1;33m\u001b[0m\u001b[0m\n\u001b[0;32m    911\u001b[0m \u001b[1;33m\u001b[0m\u001b[0m\n",
      "\u001b[1;32m~\\Anaconda3\\envs\\torch_py37\\lib\\site-packages\\bokeh\\model.py\u001b[0m in \u001b[0;36mtrigger\u001b[1;34m(self, attr, old, new, hint, setter)\u001b[0m\n\u001b[0;32m    660\u001b[0m                 \u001b[0m_visit_value_and_its_immediate_references\u001b[0m\u001b[1;33m(\u001b[0m\u001b[0mold\u001b[0m\u001b[1;33m,\u001b[0m \u001b[0mmark_dirty\u001b[0m\u001b[1;33m)\u001b[0m\u001b[1;33m\u001b[0m\u001b[1;33m\u001b[0m\u001b[0m\n\u001b[0;32m    661\u001b[0m                 \u001b[1;32mif\u001b[0m \u001b[0mdirty\u001b[0m\u001b[1;33m[\u001b[0m\u001b[1;34m'count'\u001b[0m\u001b[1;33m]\u001b[0m \u001b[1;33m>\u001b[0m \u001b[1;36m0\u001b[0m\u001b[1;33m:\u001b[0m\u001b[1;33m\u001b[0m\u001b[1;33m\u001b[0m\u001b[0m\n\u001b[1;32m--> 662\u001b[1;33m                     \u001b[0mself\u001b[0m\u001b[1;33m.\u001b[0m\u001b[0m_document\u001b[0m\u001b[1;33m.\u001b[0m\u001b[0m_invalidate_all_models\u001b[0m\u001b[1;33m(\u001b[0m\u001b[1;33m)\u001b[0m\u001b[1;33m\u001b[0m\u001b[1;33m\u001b[0m\u001b[0m\n\u001b[0m\u001b[0;32m    663\u001b[0m         \u001b[1;31m# chain up to invoke callbacks\u001b[0m\u001b[1;33m\u001b[0m\u001b[1;33m\u001b[0m\u001b[1;33m\u001b[0m\u001b[0m\n\u001b[0;32m    664\u001b[0m         \u001b[0msuper\u001b[0m\u001b[1;33m(\u001b[0m\u001b[1;33m)\u001b[0m\u001b[1;33m.\u001b[0m\u001b[0mtrigger\u001b[0m\u001b[1;33m(\u001b[0m\u001b[0mattr\u001b[0m\u001b[1;33m,\u001b[0m \u001b[0mold\u001b[0m\u001b[1;33m,\u001b[0m \u001b[0mnew\u001b[0m\u001b[1;33m,\u001b[0m \u001b[0mhint\u001b[0m\u001b[1;33m=\u001b[0m\u001b[0mhint\u001b[0m\u001b[1;33m,\u001b[0m \u001b[0msetter\u001b[0m\u001b[1;33m=\u001b[0m\u001b[0msetter\u001b[0m\u001b[1;33m)\u001b[0m\u001b[1;33m\u001b[0m\u001b[1;33m\u001b[0m\u001b[0m\n",
      "\u001b[1;32m~\\Anaconda3\\envs\\torch_py37\\lib\\site-packages\\bokeh\\document\\document.py\u001b[0m in \u001b[0;36m_invalidate_all_models\u001b[1;34m(self)\u001b[0m\n\u001b[0;32m   1029\u001b[0m         \u001b[1;31m# if freeze count is > 0, we'll recompute on unfreeze\u001b[0m\u001b[1;33m\u001b[0m\u001b[1;33m\u001b[0m\u001b[1;33m\u001b[0m\u001b[0m\n\u001b[0;32m   1030\u001b[0m         \u001b[1;32mif\u001b[0m \u001b[0mself\u001b[0m\u001b[1;33m.\u001b[0m\u001b[0m_all_models_freeze_count\u001b[0m \u001b[1;33m==\u001b[0m \u001b[1;36m0\u001b[0m\u001b[1;33m:\u001b[0m\u001b[1;33m\u001b[0m\u001b[1;33m\u001b[0m\u001b[0m\n\u001b[1;32m-> 1031\u001b[1;33m             \u001b[0mself\u001b[0m\u001b[1;33m.\u001b[0m\u001b[0m_recompute_all_models\u001b[0m\u001b[1;33m(\u001b[0m\u001b[1;33m)\u001b[0m\u001b[1;33m\u001b[0m\u001b[1;33m\u001b[0m\u001b[0m\n\u001b[0m\u001b[0;32m   1032\u001b[0m \u001b[1;33m\u001b[0m\u001b[0m\n\u001b[0;32m   1033\u001b[0m     \u001b[1;32mdef\u001b[0m \u001b[0m_is_single_string_selector\u001b[0m\u001b[1;33m(\u001b[0m\u001b[0mself\u001b[0m\u001b[1;33m,\u001b[0m \u001b[0mselector\u001b[0m\u001b[1;33m,\u001b[0m \u001b[0mfield\u001b[0m\u001b[1;33m)\u001b[0m\u001b[1;33m:\u001b[0m\u001b[1;33m\u001b[0m\u001b[1;33m\u001b[0m\u001b[0m\n",
      "\u001b[1;32m~\\Anaconda3\\envs\\torch_py37\\lib\\site-packages\\bokeh\\document\\document.py\u001b[0m in \u001b[0;36m_recompute_all_models\u001b[1;34m(self)\u001b[0m\n\u001b[0;32m   1081\u001b[0m         \u001b[0mnew_all_models_set\u001b[0m \u001b[1;33m=\u001b[0m \u001b[0mset\u001b[0m\u001b[1;33m(\u001b[0m\u001b[1;33m)\u001b[0m\u001b[1;33m\u001b[0m\u001b[1;33m\u001b[0m\u001b[0m\n\u001b[0;32m   1082\u001b[0m         \u001b[1;32mfor\u001b[0m \u001b[0mr\u001b[0m \u001b[1;32min\u001b[0m \u001b[0mself\u001b[0m\u001b[1;33m.\u001b[0m\u001b[0mroots\u001b[0m\u001b[1;33m:\u001b[0m\u001b[1;33m\u001b[0m\u001b[1;33m\u001b[0m\u001b[0m\n\u001b[1;32m-> 1083\u001b[1;33m             \u001b[0mnew_all_models_set\u001b[0m \u001b[1;33m=\u001b[0m \u001b[0mnew_all_models_set\u001b[0m\u001b[1;33m.\u001b[0m\u001b[0munion\u001b[0m\u001b[1;33m(\u001b[0m\u001b[0mr\u001b[0m\u001b[1;33m.\u001b[0m\u001b[0mreferences\u001b[0m\u001b[1;33m(\u001b[0m\u001b[1;33m)\u001b[0m\u001b[1;33m)\u001b[0m\u001b[1;33m\u001b[0m\u001b[1;33m\u001b[0m\u001b[0m\n\u001b[0m\u001b[0;32m   1084\u001b[0m         \u001b[0mold_all_models_set\u001b[0m \u001b[1;33m=\u001b[0m \u001b[0mset\u001b[0m\u001b[1;33m(\u001b[0m\u001b[0mself\u001b[0m\u001b[1;33m.\u001b[0m\u001b[0m_all_models\u001b[0m\u001b[1;33m.\u001b[0m\u001b[0mvalues\u001b[0m\u001b[1;33m(\u001b[0m\u001b[1;33m)\u001b[0m\u001b[1;33m)\u001b[0m\u001b[1;33m\u001b[0m\u001b[1;33m\u001b[0m\u001b[0m\n\u001b[0;32m   1085\u001b[0m         \u001b[0mto_detach\u001b[0m \u001b[1;33m=\u001b[0m \u001b[0mold_all_models_set\u001b[0m \u001b[1;33m-\u001b[0m \u001b[0mnew_all_models_set\u001b[0m\u001b[1;33m\u001b[0m\u001b[1;33m\u001b[0m\u001b[0m\n",
      "\u001b[1;32m~\\Anaconda3\\envs\\torch_py37\\lib\\site-packages\\bokeh\\model.py\u001b[0m in \u001b[0;36mreferences\u001b[1;34m(self)\u001b[0m\n\u001b[0;32m    539\u001b[0m \u001b[1;33m\u001b[0m\u001b[0m\n\u001b[0;32m    540\u001b[0m         '''\n\u001b[1;32m--> 541\u001b[1;33m         \u001b[1;32mreturn\u001b[0m \u001b[0mset\u001b[0m\u001b[1;33m(\u001b[0m\u001b[0mcollect_models\u001b[0m\u001b[1;33m(\u001b[0m\u001b[0mself\u001b[0m\u001b[1;33m)\u001b[0m\u001b[1;33m)\u001b[0m\u001b[1;33m\u001b[0m\u001b[1;33m\u001b[0m\u001b[0m\n\u001b[0m\u001b[0;32m    542\u001b[0m \u001b[1;33m\u001b[0m\u001b[0m\n\u001b[0;32m    543\u001b[0m     \u001b[1;32mdef\u001b[0m \u001b[0mselect\u001b[0m\u001b[1;33m(\u001b[0m\u001b[0mself\u001b[0m\u001b[1;33m,\u001b[0m \u001b[0mselector\u001b[0m\u001b[1;33m)\u001b[0m\u001b[1;33m:\u001b[0m\u001b[1;33m\u001b[0m\u001b[1;33m\u001b[0m\u001b[0m\n",
      "\u001b[1;32m~\\Anaconda3\\envs\\torch_py37\\lib\\site-packages\\bokeh\\model.py\u001b[0m in \u001b[0;36mcollect_models\u001b[1;34m(*input_values)\u001b[0m\n\u001b[0;32m    111\u001b[0m \u001b[1;33m\u001b[0m\u001b[0m\n\u001b[0;32m    112\u001b[0m     '''\n\u001b[1;32m--> 113\u001b[1;33m     \u001b[1;32mreturn\u001b[0m \u001b[0mcollect_filtered_models\u001b[0m\u001b[1;33m(\u001b[0m\u001b[1;32mNone\u001b[0m\u001b[1;33m,\u001b[0m \u001b[1;33m*\u001b[0m\u001b[0minput_values\u001b[0m\u001b[1;33m)\u001b[0m\u001b[1;33m\u001b[0m\u001b[1;33m\u001b[0m\u001b[0m\n\u001b[0m\u001b[0;32m    114\u001b[0m \u001b[1;33m\u001b[0m\u001b[0m\n\u001b[0;32m    115\u001b[0m \u001b[1;32mdef\u001b[0m \u001b[0mget_class\u001b[0m\u001b[1;33m(\u001b[0m\u001b[0mview_model_name\u001b[0m\u001b[1;33m)\u001b[0m\u001b[1;33m:\u001b[0m\u001b[1;33m\u001b[0m\u001b[1;33m\u001b[0m\u001b[0m\n",
      "\u001b[1;32m~\\Anaconda3\\envs\\torch_py37\\lib\\site-packages\\bokeh\\model.py\u001b[0m in \u001b[0;36mcollect_filtered_models\u001b[1;34m(discard, *input_values)\u001b[0m\n\u001b[0;32m     91\u001b[0m             \u001b[0mids\u001b[0m\u001b[1;33m.\u001b[0m\u001b[0madd\u001b[0m\u001b[1;33m(\u001b[0m\u001b[0mobj\u001b[0m\u001b[1;33m.\u001b[0m\u001b[0mid\u001b[0m\u001b[1;33m)\u001b[0m\u001b[1;33m\u001b[0m\u001b[1;33m\u001b[0m\u001b[0m\n\u001b[0;32m     92\u001b[0m             \u001b[0mcollected\u001b[0m\u001b[1;33m.\u001b[0m\u001b[0mappend\u001b[0m\u001b[1;33m(\u001b[0m\u001b[0mobj\u001b[0m\u001b[1;33m)\u001b[0m\u001b[1;33m\u001b[0m\u001b[1;33m\u001b[0m\u001b[0m\n\u001b[1;32m---> 93\u001b[1;33m             \u001b[0m_visit_immediate_value_references\u001b[0m\u001b[1;33m(\u001b[0m\u001b[0mobj\u001b[0m\u001b[1;33m,\u001b[0m \u001b[0mqueue_one\u001b[0m\u001b[1;33m)\u001b[0m\u001b[1;33m\u001b[0m\u001b[1;33m\u001b[0m\u001b[0m\n\u001b[0m\u001b[0;32m     94\u001b[0m \u001b[1;33m\u001b[0m\u001b[0m\n\u001b[0;32m     95\u001b[0m     \u001b[1;32mreturn\u001b[0m \u001b[0mcollected\u001b[0m\u001b[1;33m\u001b[0m\u001b[1;33m\u001b[0m\u001b[0m\n",
      "\u001b[1;32m~\\Anaconda3\\envs\\torch_py37\\lib\\site-packages\\bokeh\\model.py\u001b[0m in \u001b[0;36m_visit_immediate_value_references\u001b[1;34m(value, visitor)\u001b[0m\n\u001b[0;32m    792\u001b[0m     \u001b[1;32mif\u001b[0m \u001b[0misinstance\u001b[0m\u001b[1;33m(\u001b[0m\u001b[0mvalue\u001b[0m\u001b[1;33m,\u001b[0m \u001b[0mHasProps\u001b[0m\u001b[1;33m)\u001b[0m\u001b[1;33m:\u001b[0m\u001b[1;33m\u001b[0m\u001b[1;33m\u001b[0m\u001b[0m\n\u001b[0;32m    793\u001b[0m         \u001b[1;32mfor\u001b[0m \u001b[0mattr\u001b[0m \u001b[1;32min\u001b[0m \u001b[0mvalue\u001b[0m\u001b[1;33m.\u001b[0m\u001b[0mproperties_with_refs\u001b[0m\u001b[1;33m(\u001b[0m\u001b[1;33m)\u001b[0m\u001b[1;33m:\u001b[0m\u001b[1;33m\u001b[0m\u001b[1;33m\u001b[0m\u001b[0m\n\u001b[1;32m--> 794\u001b[1;33m             \u001b[0mchild\u001b[0m \u001b[1;33m=\u001b[0m \u001b[0mgetattr\u001b[0m\u001b[1;33m(\u001b[0m\u001b[0mvalue\u001b[0m\u001b[1;33m,\u001b[0m \u001b[0mattr\u001b[0m\u001b[1;33m)\u001b[0m\u001b[1;33m\u001b[0m\u001b[1;33m\u001b[0m\u001b[0m\n\u001b[0m\u001b[0;32m    795\u001b[0m             \u001b[0m_visit_value_and_its_immediate_references\u001b[0m\u001b[1;33m(\u001b[0m\u001b[0mchild\u001b[0m\u001b[1;33m,\u001b[0m \u001b[0mvisitor\u001b[0m\u001b[1;33m)\u001b[0m\u001b[1;33m\u001b[0m\u001b[1;33m\u001b[0m\u001b[0m\n\u001b[0;32m    796\u001b[0m     \u001b[1;32melse\u001b[0m\u001b[1;33m:\u001b[0m\u001b[1;33m\u001b[0m\u001b[1;33m\u001b[0m\u001b[0m\n",
      "\u001b[1;32m~\\Anaconda3\\envs\\torch_py37\\lib\\site-packages\\bokeh\\core\\property\\descriptors.py\u001b[0m in \u001b[0;36m__get__\u001b[1;34m(self, obj, owner)\u001b[0m\n\u001b[0;32m    491\u001b[0m         '''\n\u001b[0;32m    492\u001b[0m         \u001b[1;32mif\u001b[0m \u001b[0mobj\u001b[0m \u001b[1;32mis\u001b[0m \u001b[1;32mnot\u001b[0m \u001b[1;32mNone\u001b[0m\u001b[1;33m:\u001b[0m\u001b[1;33m\u001b[0m\u001b[1;33m\u001b[0m\u001b[0m\n\u001b[1;32m--> 493\u001b[1;33m             \u001b[1;32mreturn\u001b[0m \u001b[0mself\u001b[0m\u001b[1;33m.\u001b[0m\u001b[0m_get\u001b[0m\u001b[1;33m(\u001b[0m\u001b[0mobj\u001b[0m\u001b[1;33m)\u001b[0m\u001b[1;33m\u001b[0m\u001b[1;33m\u001b[0m\u001b[0m\n\u001b[0m\u001b[0;32m    494\u001b[0m         \u001b[1;32melif\u001b[0m \u001b[0mowner\u001b[0m \u001b[1;32mis\u001b[0m \u001b[1;32mnot\u001b[0m \u001b[1;32mNone\u001b[0m\u001b[1;33m:\u001b[0m\u001b[1;33m\u001b[0m\u001b[1;33m\u001b[0m\u001b[0m\n\u001b[0;32m    495\u001b[0m             \u001b[1;32mreturn\u001b[0m \u001b[0mself\u001b[0m\u001b[1;33m\u001b[0m\u001b[1;33m\u001b[0m\u001b[0m\n",
      "\u001b[1;32m~\\Anaconda3\\envs\\torch_py37\\lib\\site-packages\\bokeh\\core\\property\\descriptors.py\u001b[0m in \u001b[0;36m_get\u001b[1;34m(self, obj)\u001b[0m\n\u001b[0;32m    687\u001b[0m \u001b[1;33m\u001b[0m\u001b[0m\n\u001b[0;32m    688\u001b[0m         \u001b[1;32mif\u001b[0m \u001b[0mself\u001b[0m\u001b[1;33m.\u001b[0m\u001b[0mname\u001b[0m \u001b[1;32mnot\u001b[0m \u001b[1;32min\u001b[0m \u001b[0mobj\u001b[0m\u001b[1;33m.\u001b[0m\u001b[0m_property_values\u001b[0m\u001b[1;33m:\u001b[0m\u001b[1;33m\u001b[0m\u001b[1;33m\u001b[0m\u001b[0m\n\u001b[1;32m--> 689\u001b[1;33m             \u001b[1;32mreturn\u001b[0m \u001b[0mself\u001b[0m\u001b[1;33m.\u001b[0m\u001b[0m_get_default\u001b[0m\u001b[1;33m(\u001b[0m\u001b[0mobj\u001b[0m\u001b[1;33m)\u001b[0m\u001b[1;33m\u001b[0m\u001b[1;33m\u001b[0m\u001b[0m\n\u001b[0m\u001b[0;32m    690\u001b[0m         \u001b[1;32melse\u001b[0m\u001b[1;33m:\u001b[0m\u001b[1;33m\u001b[0m\u001b[1;33m\u001b[0m\u001b[0m\n\u001b[0;32m    691\u001b[0m             \u001b[1;32mreturn\u001b[0m \u001b[0mobj\u001b[0m\u001b[1;33m.\u001b[0m\u001b[0m_property_values\u001b[0m\u001b[1;33m[\u001b[0m\u001b[0mself\u001b[0m\u001b[1;33m.\u001b[0m\u001b[0mname\u001b[0m\u001b[1;33m]\u001b[0m\u001b[1;33m\u001b[0m\u001b[1;33m\u001b[0m\u001b[0m\n",
      "\u001b[1;32m~\\Anaconda3\\envs\\torch_py37\\lib\\site-packages\\bokeh\\core\\property\\descriptors.py\u001b[0m in \u001b[0;36m_get_default\u001b[1;34m(self, obj)\u001b[0m\n\u001b[0;32m    704\u001b[0m         \u001b[0mis_themed\u001b[0m \u001b[1;33m=\u001b[0m \u001b[0mobj\u001b[0m\u001b[1;33m.\u001b[0m\u001b[0mthemed_values\u001b[0m\u001b[1;33m(\u001b[0m\u001b[1;33m)\u001b[0m \u001b[1;32mis\u001b[0m \u001b[1;32mnot\u001b[0m \u001b[1;32mNone\u001b[0m \u001b[1;32mand\u001b[0m \u001b[0mself\u001b[0m\u001b[1;33m.\u001b[0m\u001b[0mname\u001b[0m \u001b[1;32min\u001b[0m \u001b[0mobj\u001b[0m\u001b[1;33m.\u001b[0m\u001b[0mthemed_values\u001b[0m\u001b[1;33m(\u001b[0m\u001b[1;33m)\u001b[0m\u001b[1;33m\u001b[0m\u001b[1;33m\u001b[0m\u001b[0m\n\u001b[0;32m    705\u001b[0m \u001b[1;33m\u001b[0m\u001b[0m\n\u001b[1;32m--> 706\u001b[1;33m         \u001b[0mdefault\u001b[0m \u001b[1;33m=\u001b[0m \u001b[0mself\u001b[0m\u001b[1;33m.\u001b[0m\u001b[0minstance_default\u001b[0m\u001b[1;33m(\u001b[0m\u001b[0mobj\u001b[0m\u001b[1;33m)\u001b[0m\u001b[1;33m\u001b[0m\u001b[1;33m\u001b[0m\u001b[0m\n\u001b[0m\u001b[0;32m    707\u001b[0m \u001b[1;33m\u001b[0m\u001b[0m\n\u001b[0;32m    708\u001b[0m         \u001b[1;32mif\u001b[0m \u001b[0mis_themed\u001b[0m\u001b[1;33m:\u001b[0m\u001b[1;33m\u001b[0m\u001b[1;33m\u001b[0m\u001b[0m\n",
      "\u001b[1;32m~\\Anaconda3\\envs\\torch_py37\\lib\\site-packages\\bokeh\\core\\property\\descriptors.py\u001b[0m in \u001b[0;36minstance_default\u001b[1;34m(self, obj)\u001b[0m\n\u001b[0;32m    579\u001b[0m \u001b[1;33m\u001b[0m\u001b[0m\n\u001b[0;32m    580\u001b[0m         '''\n\u001b[1;32m--> 581\u001b[1;33m         \u001b[1;32mreturn\u001b[0m \u001b[0mself\u001b[0m\u001b[1;33m.\u001b[0m\u001b[0mproperty\u001b[0m\u001b[1;33m.\u001b[0m\u001b[0mthemed_default\u001b[0m\u001b[1;33m(\u001b[0m\u001b[0mobj\u001b[0m\u001b[1;33m.\u001b[0m\u001b[0m__class__\u001b[0m\u001b[1;33m,\u001b[0m \u001b[0mself\u001b[0m\u001b[1;33m.\u001b[0m\u001b[0mname\u001b[0m\u001b[1;33m,\u001b[0m \u001b[0mobj\u001b[0m\u001b[1;33m.\u001b[0m\u001b[0mthemed_values\u001b[0m\u001b[1;33m(\u001b[0m\u001b[1;33m)\u001b[0m\u001b[1;33m)\u001b[0m\u001b[1;33m\u001b[0m\u001b[1;33m\u001b[0m\u001b[0m\n\u001b[0m\u001b[0;32m    582\u001b[0m \u001b[1;33m\u001b[0m\u001b[0m\n\u001b[0;32m    583\u001b[0m     \u001b[1;32mdef\u001b[0m \u001b[0mset_from_json\u001b[0m\u001b[1;33m(\u001b[0m\u001b[0mself\u001b[0m\u001b[1;33m,\u001b[0m \u001b[0mobj\u001b[0m\u001b[1;33m,\u001b[0m \u001b[0mjson\u001b[0m\u001b[1;33m,\u001b[0m \u001b[0mmodels\u001b[0m\u001b[1;33m=\u001b[0m\u001b[1;32mNone\u001b[0m\u001b[1;33m,\u001b[0m \u001b[0msetter\u001b[0m\u001b[1;33m=\u001b[0m\u001b[1;32mNone\u001b[0m\u001b[1;33m)\u001b[0m\u001b[1;33m:\u001b[0m\u001b[1;33m\u001b[0m\u001b[1;33m\u001b[0m\u001b[0m\n",
      "\u001b[1;32m~\\Anaconda3\\envs\\torch_py37\\lib\\site-packages\\bokeh\\core\\property\\bases.py\u001b[0m in \u001b[0;36mthemed_default\u001b[1;34m(self, cls, name, theme_overrides)\u001b[0m\n\u001b[0;32m    183\u001b[0m             \u001b[0mdefault\u001b[0m \u001b[1;33m=\u001b[0m \u001b[0mself\u001b[0m\u001b[1;33m.\u001b[0m\u001b[0m_copy_default\u001b[0m\u001b[1;33m(\u001b[0m\u001b[0moverrides\u001b[0m\u001b[1;33m[\u001b[0m\u001b[0mname\u001b[0m\u001b[1;33m]\u001b[0m\u001b[1;33m)\u001b[0m\u001b[1;33m\u001b[0m\u001b[1;33m\u001b[0m\u001b[0m\n\u001b[0;32m    184\u001b[0m         \u001b[1;32melse\u001b[0m\u001b[1;33m:\u001b[0m\u001b[1;33m\u001b[0m\u001b[1;33m\u001b[0m\u001b[0m\n\u001b[1;32m--> 185\u001b[1;33m             \u001b[0mdefault\u001b[0m \u001b[1;33m=\u001b[0m \u001b[0mself\u001b[0m\u001b[1;33m.\u001b[0m\u001b[0m_raw_default\u001b[0m\u001b[1;33m(\u001b[0m\u001b[1;33m)\u001b[0m\u001b[1;33m\u001b[0m\u001b[1;33m\u001b[0m\u001b[0m\n\u001b[0m\u001b[0;32m    186\u001b[0m         \u001b[1;32mreturn\u001b[0m \u001b[0mself\u001b[0m\u001b[1;33m.\u001b[0m\u001b[0mprepare_value\u001b[0m\u001b[1;33m(\u001b[0m\u001b[0mcls\u001b[0m\u001b[1;33m,\u001b[0m \u001b[0mname\u001b[0m\u001b[1;33m,\u001b[0m \u001b[0mdefault\u001b[0m\u001b[1;33m)\u001b[0m\u001b[1;33m\u001b[0m\u001b[1;33m\u001b[0m\u001b[0m\n\u001b[0;32m    187\u001b[0m \u001b[1;33m\u001b[0m\u001b[0m\n",
      "\u001b[1;32m~\\Anaconda3\\envs\\torch_py37\\lib\\site-packages\\bokeh\\core\\property\\bases.py\u001b[0m in \u001b[0;36m_raw_default\u001b[1;34m(self)\u001b[0m\n\u001b[0;32m    170\u001b[0m \u001b[1;33m\u001b[0m\u001b[0m\n\u001b[0;32m    171\u001b[0m         '''\n\u001b[1;32m--> 172\u001b[1;33m         \u001b[1;32mreturn\u001b[0m \u001b[0mself\u001b[0m\u001b[1;33m.\u001b[0m\u001b[0m_copy_default\u001b[0m\u001b[1;33m(\u001b[0m\u001b[0mself\u001b[0m\u001b[1;33m.\u001b[0m\u001b[0m_default\u001b[0m\u001b[1;33m)\u001b[0m\u001b[1;33m\u001b[0m\u001b[1;33m\u001b[0m\u001b[0m\n\u001b[0m\u001b[0;32m    173\u001b[0m \u001b[1;33m\u001b[0m\u001b[0m\n\u001b[0;32m    174\u001b[0m     \u001b[1;32mdef\u001b[0m \u001b[0mthemed_default\u001b[0m\u001b[1;33m(\u001b[0m\u001b[0mself\u001b[0m\u001b[1;33m,\u001b[0m \u001b[0mcls\u001b[0m\u001b[1;33m,\u001b[0m \u001b[0mname\u001b[0m\u001b[1;33m,\u001b[0m \u001b[0mtheme_overrides\u001b[0m\u001b[1;33m)\u001b[0m\u001b[1;33m:\u001b[0m\u001b[1;33m\u001b[0m\u001b[1;33m\u001b[0m\u001b[0m\n",
      "\u001b[1;32m~\\Anaconda3\\envs\\torch_py37\\lib\\site-packages\\bokeh\\core\\property\\bases.py\u001b[0m in \u001b[0;36m_copy_default\u001b[1;34m(cls, default)\u001b[0m\n\u001b[0;32m    160\u001b[0m             \u001b[1;32mreturn\u001b[0m \u001b[0mcopy\u001b[0m\u001b[1;33m(\u001b[0m\u001b[0mdefault\u001b[0m\u001b[1;33m)\u001b[0m\u001b[1;33m\u001b[0m\u001b[1;33m\u001b[0m\u001b[0m\n\u001b[0;32m    161\u001b[0m         \u001b[1;32melse\u001b[0m\u001b[1;33m:\u001b[0m\u001b[1;33m\u001b[0m\u001b[1;33m\u001b[0m\u001b[0m\n\u001b[1;32m--> 162\u001b[1;33m             \u001b[1;32mreturn\u001b[0m \u001b[0mdefault\u001b[0m\u001b[1;33m(\u001b[0m\u001b[1;33m)\u001b[0m\u001b[1;33m\u001b[0m\u001b[1;33m\u001b[0m\u001b[0m\n\u001b[0m\u001b[0;32m    163\u001b[0m \u001b[1;33m\u001b[0m\u001b[0m\n\u001b[0;32m    164\u001b[0m     \u001b[1;32mdef\u001b[0m \u001b[0m_raw_default\u001b[0m\u001b[1;33m(\u001b[0m\u001b[0mself\u001b[0m\u001b[1;33m)\u001b[0m\u001b[1;33m:\u001b[0m\u001b[1;33m\u001b[0m\u001b[1;33m\u001b[0m\u001b[0m\n",
      "\u001b[1;32m~\\Anaconda3\\envs\\torch_py37\\lib\\site-packages\\bokeh\\models\\plots.py\u001b[0m in \u001b[0;36m<lambda>\u001b[1;34m()\u001b[0m\n\u001b[0;32m    470\u001b[0m     \"\"\")\n\u001b[0;32m    471\u001b[0m \u001b[1;33m\u001b[0m\u001b[0m\n\u001b[1;32m--> 472\u001b[1;33m     toolbar = Instance(Toolbar, default=lambda: Toolbar(), help=\"\"\"\n\u001b[0m\u001b[0;32m    473\u001b[0m     \u001b[0mThe\u001b[0m \u001b[0mtoolbar\u001b[0m \u001b[0massociated\u001b[0m \u001b[1;32mwith\u001b[0m \u001b[0mthis\u001b[0m \u001b[0mplot\u001b[0m \u001b[0mwhich\u001b[0m \u001b[0mholds\u001b[0m \u001b[0mall\u001b[0m \u001b[0mthe\u001b[0m \u001b[0mtools\u001b[0m\u001b[1;33m.\u001b[0m \u001b[0mIt\u001b[0m \u001b[1;32mis\u001b[0m\u001b[1;33m\u001b[0m\u001b[1;33m\u001b[0m\u001b[0m\n\u001b[0;32m    474\u001b[0m     \u001b[0mautomatically\u001b[0m \u001b[0mcreated\u001b[0m \u001b[1;32mwith\u001b[0m \u001b[0mthe\u001b[0m \u001b[0mplot\u001b[0m \u001b[1;32mif\u001b[0m \u001b[0mnecessary\u001b[0m\u001b[1;33m.\u001b[0m\u001b[1;33m\u001b[0m\u001b[1;33m\u001b[0m\u001b[0m\n",
      "\u001b[1;32m~\\Anaconda3\\envs\\torch_py37\\lib\\site-packages\\bokeh\\model.py\u001b[0m in \u001b[0;36m__new__\u001b[1;34m(cls, *args, **kwargs)\u001b[0m\n\u001b[0;32m    209\u001b[0m     \u001b[1;32mdef\u001b[0m \u001b[0m__new__\u001b[0m\u001b[1;33m(\u001b[0m\u001b[0mcls\u001b[0m\u001b[1;33m,\u001b[0m \u001b[1;33m*\u001b[0m\u001b[0margs\u001b[0m\u001b[1;33m,\u001b[0m \u001b[1;33m**\u001b[0m\u001b[0mkwargs\u001b[0m\u001b[1;33m)\u001b[0m\u001b[1;33m:\u001b[0m\u001b[1;33m\u001b[0m\u001b[1;33m\u001b[0m\u001b[0m\n\u001b[0;32m    210\u001b[0m         \u001b[0mobj\u001b[0m \u001b[1;33m=\u001b[0m  \u001b[0msuper\u001b[0m\u001b[1;33m(\u001b[0m\u001b[1;33m)\u001b[0m\u001b[1;33m.\u001b[0m\u001b[0m__new__\u001b[0m\u001b[1;33m(\u001b[0m\u001b[0mcls\u001b[0m\u001b[1;33m)\u001b[0m\u001b[1;33m\u001b[0m\u001b[1;33m\u001b[0m\u001b[0m\n\u001b[1;32m--> 211\u001b[1;33m         \u001b[0mobj\u001b[0m\u001b[1;33m.\u001b[0m\u001b[0m_id\u001b[0m \u001b[1;33m=\u001b[0m \u001b[0mkwargs\u001b[0m\u001b[1;33m.\u001b[0m\u001b[0mpop\u001b[0m\u001b[1;33m(\u001b[0m\u001b[1;34m\"id\"\u001b[0m\u001b[1;33m,\u001b[0m \u001b[0mmake_id\u001b[0m\u001b[1;33m(\u001b[0m\u001b[1;33m)\u001b[0m\u001b[1;33m)\u001b[0m\u001b[1;33m\u001b[0m\u001b[1;33m\u001b[0m\u001b[0m\n\u001b[0m\u001b[0;32m    212\u001b[0m         \u001b[0mobj\u001b[0m\u001b[1;33m.\u001b[0m\u001b[0m_document\u001b[0m \u001b[1;33m=\u001b[0m \u001b[1;32mNone\u001b[0m\u001b[1;33m\u001b[0m\u001b[1;33m\u001b[0m\u001b[0m\n\u001b[0;32m    213\u001b[0m         \u001b[0mobj\u001b[0m\u001b[1;33m.\u001b[0m\u001b[0m_temp_document\u001b[0m \u001b[1;33m=\u001b[0m \u001b[1;32mNone\u001b[0m\u001b[1;33m\u001b[0m\u001b[1;33m\u001b[0m\u001b[0m\n",
      "\u001b[1;31mKeyboardInterrupt\u001b[0m: "
     ]
    }
   ],
   "source": [
    "t = bokeh.io.show(bokeh_candle_stick_df.dp, notebook_handle=True)\n",
    "bokeh_candle_stick_df.set_t(t)\n",
    "for i in range(1000):\n",
    "    time.sleep(1)\n",
    "    bokeh_candle_stick_df.update()"
   ]
  },
  {
   "cell_type": "code",
   "execution_count": null,
   "metadata": {},
   "outputs": [],
   "source": []
  }
 ],
 "metadata": {
  "kernelspec": {
   "display_name": "torch_py37",
   "language": "python",
   "name": "torch_py37"
  },
  "language_info": {
   "codemirror_mode": {
    "name": "ipython",
    "version": 3
   },
   "file_extension": ".py",
   "mimetype": "text/x-python",
   "name": "python",
   "nbconvert_exporter": "python",
   "pygments_lexer": "ipython3",
   "version": "3.7.4"
  },
  "toc": {
   "base_numbering": 1,
   "nav_menu": {},
   "number_sections": true,
   "sideBar": true,
   "skip_h1_title": false,
   "title_cell": "Table of Contents",
   "title_sidebar": "Contents",
   "toc_cell": false,
   "toc_position": {
    "height": "calc(100% - 180px)",
    "left": "10px",
    "top": "150px",
    "width": "280.319px"
   },
   "toc_section_display": true,
   "toc_window_display": true
  }
 },
 "nbformat": 4,
 "nbformat_minor": 4
}
